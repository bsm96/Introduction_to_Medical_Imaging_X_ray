{
 "cells": [
  {
   "cell_type": "markdown",
   "metadata": {},
   "source": [
    "### TASK 0: IMPORT OF REQUIRED LIBRARIES"
   ]
  },
  {
   "cell_type": "code",
   "execution_count": 65,
   "metadata": {},
   "outputs": [],
   "source": [
    "# Required Libraries\n",
    "import numpy as np\n",
    "import matplotlib.pyplot as plt\n",
    "import nibabel as nib\n",
    "import skimage as ski"
   ]
  },
  {
   "cell_type": "markdown",
   "metadata": {},
   "source": [
    "### DATASET\n",
    "\n",
    "**TASKS**\n",
    "1) Read in the image and visualize slices in 3 different planes\n",
    "2) Find your phantom and crop it out\n",
    "3) Find an object within your phantom\n",
    "\n",
    "NB: The image needs to be fliped and rotated to match the orientation of the radiological convention "
   ]
  },
  {
   "cell_type": "markdown",
   "metadata": {},
   "source": [
    "##### **Useful functions and hints**\n",
    "\n",
    "**Loading a nifti file:**\n",
    "\n",
    "Nibabel does not load the image array from the proxy when you load the image. It waits until you ask for the array data. The standard way to ask for the array data is to call the \n",
    "get_fdata() method:\n",
    "\n",
    "- `img = nib.load('imgFile')`\n",
    "- `data = img.get_fdata()`\n",
    "- `info = img.header`\n",
    "\n",
    "**Usefull functions for visualization:**\n",
    " - `np.flipud(np.fliplr()) to flip the image`\n",
    " - `plt.imshow() to visualize an image`\n",
    " - `ski.transform.rotate(img_plane,rot angle,resize=True) to rotate the image`\n",
    " - `plt.subplot() to generate subplots` \n",
    " - `plt.colorbar() to add a colorbar`\n",
    "\n",
    "**Hint to visulaizing the image in the radiological view**\n",
    "\n",
    "- Flip the image\\\n",
    "`img_flip  = np.flipud(np.fliplr(data))`\n",
    "\n",
    "- Get the right axis on the image\\\n",
    "`shape = img_flip.shape`\\\n",
    "`extent_axi = [0,shape[0],shape[1],0]`\\\n",
    "`extent_cor = [0,shape[0],0,shape[2]]`\\\n",
    "`extent_sag = [0,shape[1],0,shape[2]]`\\\n",
    "\n",
    "- Define slices\\\n",
    "`axial_slc = ...`\\\n",
    "`coronal_slc = ...`\\\n",
    "`sagittal_slc = ...`\n",
    "\n",
    "- Rotate the image\\\n",
    "`rot_angle = 90`\\\n",
    "`img_plot_axi  = np.flipud(ski.transform.rotate(img_flip[:,:,axial_slc],rot_angle,resize=True))`\\\n",
    "`img_plot_cor  = ski.transform.rotate(img_flip[:,coronal_slc,:],rot_angle,resize=True)`\\\n",
    "`img_plot_sag  = ski.transform.rotate(img_flip[sagittal_slc,:,:],rot_angle,resize=True)`\n",
    "\n",
    "- Plotting parameters\\\n",
    "`figsize_x = ...`, `figsize_y = ...`\\\n",
    "`rows = ...`, `columns = ...`\\\n",
    "`cmap = ...`\n",
    "\n",
    "- Plot the image\n",
    "\n",
    "`fig = plt.figure(figsize=(figsize_x,figsize_y)) `\n",
    " \n",
    " Axial plane\\\n",
    "`fig.add_subplot(rows, columns, 1)`\\\n",
    "`plt.title('Axial')`\\\n",
    "`figax = plt.imshow(img_plot_axi, cmap=cmap, extent=extent_axi)`\\\n",
    "`plt.xlabel('R-L [pixels]')`\\\n",
    "`plt.ylabel('A-P [pixels]')`\n",
    " \n",
    " Coronal plane\\\n",
    "`fig.add_subplot(rows, columns, 2)`\\\n",
    "`plt.title('Coronal')`\\\n",
    "`figax = plt.imshow(img_plot_cor, cmap=cmap, extent=extent_cor)`\\\n",
    "`plt.ylabel('S-I [pixel]')`\\\n",
    "`plt.xlabel('R-L [pixel]')`\n",
    "\n",
    " Sagittal plane\\\n",
    "`fig.add_subplot(rows, columns, 3)`\\\n",
    "`plt.title('Sagittal')`\\\n",
    "`figax = plt.imshow(img_plot_sag, cmap=cmap, extent=extent_sag)`\\\n",
    "`plt.ylabel('S-I [pixel]')`\\\n",
    "`plt.xlabel('A-P [pixel]')`\\\n",
    "\n",
    "`fig.tight_layout()`\\\n",
    "`plt.show()`\n"
   ]
  },
  {
   "cell_type": "code",
   "execution_count": 66,
   "metadata": {},
   "outputs": [],
   "source": [
    "# Read Nifti file\n",
    "img = nib.load('Dtus - CT BBH_CT_Lavdosis_BH_1.25mm_20240923083332_2.nii')\n",
    "data = img.get_fdata()\n",
    "info = img.header"
   ]
  },
  {
   "cell_type": "code",
   "execution_count": 67,
   "metadata": {},
   "outputs": [
    {
     "data": {
      "application/vnd.jupyter.widget-view+json": {
       "model_id": "7d61c5e5e127418788b213a0a3e4dc2f",
       "version_major": 2,
       "version_minor": 0
      },
      "text/plain": [
       "VBox(children=(IntSlider(value=271, description='Sagittal Slice:', max=511), Output()))"
      ]
     },
     "metadata": {},
     "output_type": "display_data"
    },
    {
     "data": {
      "application/vnd.jupyter.widget-view+json": {
       "model_id": "7e7031c25bf443268f40335f6f447d4b",
       "version_major": 2,
       "version_minor": 0
      },
      "text/plain": [
       "VBox(children=(IntSlider(value=295, description='Coronal Slice:', max=511), Output()))"
      ]
     },
     "metadata": {},
     "output_type": "display_data"
    },
    {
     "data": {
      "application/vnd.jupyter.widget-view+json": {
       "model_id": "09d6fc50baee47a887a8dc745e648c83",
       "version_major": 2,
       "version_minor": 0
      },
      "text/plain": [
       "VBox(children=(IntSlider(value=85, description='Axial Slice:', max=468), Output()))"
      ]
     },
     "metadata": {},
     "output_type": "display_data"
    }
   ],
   "source": [
    "# Visualize one slice in all three directions\n",
    "\n",
    "import matplotlib.pyplot as plt\n",
    "import ipywidgets as widgets\n",
    "from IPython.display import display, clear_output\n",
    "\n",
    "# Marker values\n",
    "sagittal_slice = 271  # marker from hint 68\n",
    "coronal_slice = 295    # Our B5: 189. Marker from hint 148\n",
    "axial_slice = 85     # Our B5: 453. Marker from hint 50\n",
    "\n",
    "# Number of slices for each axis\n",
    "sagittal_num_slices = data.shape[0]\n",
    "coronal_num_slices = data.shape[1]\n",
    "axial_num_slices = data.shape[2]\n",
    "\n",
    "# Output widgets for each plot\n",
    "output_sagittal = widgets.Output()\n",
    "output_coronal = widgets.Output()\n",
    "output_axial = widgets.Output()\n",
    "\n",
    "# Create functions that update the displayed slice for each view\n",
    "def sagittal_plot_slice(slice_idx):\n",
    "    with output_sagittal:\n",
    "        clear_output(wait=True)\n",
    "        plt.imshow(data[slice_idx, :, :], cmap='gray')\n",
    "        plt.title(f'Sagittal Slice {slice_idx}')\n",
    "        plt.xlabel('z')\n",
    "        plt.ylabel('y')\n",
    "        plt.show()\n",
    "\n",
    "def coronal_plot_slice(slice_idx):\n",
    "    with output_coronal:\n",
    "        clear_output(wait=True)\n",
    "        plt.imshow(data[:, slice_idx, :], cmap='gray')\n",
    "        plt.title(f'Coronal Slice {slice_idx}')\n",
    "        plt.xlabel('z')\n",
    "        plt.ylabel('x')\n",
    "        plt.show()\n",
    "\n",
    "def axial_plot_slice(slice_idx):\n",
    "    with output_axial:\n",
    "        clear_output(wait=True)\n",
    "        plt.imshow(data[:, :, slice_idx], cmap='gray')\n",
    "        plt.title(f'Axial Slice {slice_idx}')\n",
    "        plt.xlabel('y')\n",
    "        plt.ylabel('x')\n",
    "        plt.show()\n",
    "\n",
    "# Create sliders for each axis\n",
    "sagittal_slice_slider = widgets.IntSlider(\n",
    "    value=sagittal_slice,\n",
    "    min=0,\n",
    "    max=sagittal_num_slices - 1,\n",
    "    step=1,\n",
    "    description='Sagittal Slice:'\n",
    ")\n",
    "coronal_slice_slider = widgets.IntSlider(\n",
    "    value=coronal_slice,\n",
    "    min=0,\n",
    "    max=coronal_num_slices - 1,\n",
    "    step=1,\n",
    "    description='Coronal Slice:'\n",
    ")\n",
    "axial_slice_slider = widgets.IntSlider(\n",
    "    value=axial_slice,\n",
    "    min=0,\n",
    "    max=axial_num_slices - 1,\n",
    "    step=1,\n",
    "    description='Axial Slice:'\n",
    ")\n",
    "\n",
    "# Link the sliders to the plotting functions\n",
    "widgets.interactive(sagittal_plot_slice, slice_idx=sagittal_slice_slider)\n",
    "widgets.interactive(coronal_plot_slice, slice_idx=coronal_slice_slider)\n",
    "widgets.interactive(axial_plot_slice, slice_idx=axial_slice_slider)\n",
    "\n",
    "# Display each interactive plot separately with its own slider and output\n",
    "display(widgets.VBox([sagittal_slice_slider, output_sagittal]))\n",
    "display(widgets.VBox([coronal_slice_slider, output_coronal]))\n",
    "display(widgets.VBox([axial_slice_slider, output_axial]))"
   ]
  },
  {
   "cell_type": "code",
   "execution_count": 68,
   "metadata": {},
   "outputs": [
    {
     "data": {
      "application/vnd.jupyter.widget-view+json": {
       "model_id": "0d668f043b654fcfb75af9706a921700",
       "version_major": 2,
       "version_minor": 0
      },
      "text/plain": [
       "interactive(children=(IntSlider(value=46, description='Sagittal Slice:', max=91), Output()), _dom_classes=('wi…"
      ]
     },
     "metadata": {},
     "output_type": "display_data"
    },
    {
     "data": {
      "application/vnd.jupyter.widget-view+json": {
       "model_id": "51b1235d99ca4ddd842489e9ca23e4c0",
       "version_major": 2,
       "version_minor": 0
      },
      "text/plain": [
       "interactive(children=(IntSlider(value=32, description='Coronal Slice:', max=64), Output()), _dom_classes=('wid…"
      ]
     },
     "metadata": {},
     "output_type": "display_data"
    },
    {
     "data": {
      "application/vnd.jupyter.widget-view+json": {
       "model_id": "04e777f52f7545fe9e3fd63df715a4ba",
       "version_major": 2,
       "version_minor": 0
      },
      "text/plain": [
       "interactive(children=(IntSlider(value=31, description='Axial Slice:', max=129), Output()), _dom_classes=('widg…"
      ]
     },
     "metadata": {},
     "output_type": "display_data"
    }
   ],
   "source": [
    "# Crop image to get your phantom\n",
    "\n",
    "import numpy as np\n",
    "import matplotlib.pyplot as plt\n",
    "import ipywidgets as widgets\n",
    "\n",
    "# Replace these values with the actual indices for your phantom, look at the NOT rotated and flipped image!\n",
    "x_min = 228  # Minimum x-index\n",
    "x_max = 320  # Maximum x-index\n",
    "y_min = 255  # Minimum y-index\n",
    "y_max = 320  # Maximum y-index\n",
    "z_min = 50   # Minimum z-index\n",
    "z_max = 180  # Maximum z-index\n",
    "\n",
    "# Crop the data (use 'data' instead of 'img')\n",
    "data_cropped = data[x_min:x_max, y_min:y_max, z_min:z_max]\n",
    "\n",
    "# Number of slices for each axis in the cropped data\n",
    "sagittal_num_slices = data_cropped.shape[0]\n",
    "coronal_num_slices = data_cropped.shape[1]\n",
    "axial_num_slices = data_cropped.shape[2]\n",
    "\n",
    "# Set up the slices (adjust based on your phantom's location)\n",
    "sagittal_slice = sagittal_num_slices // 2\n",
    "coronal_slice = coronal_num_slices // 2\n",
    "axial_slice = 31\n",
    "\n",
    "# Preprocess the rotated and flipped slices for each slice of the cropped volume\n",
    "img_sagittal_all_slices = [np.flip(data_cropped[i, :, :], axis=0) for i in range(sagittal_num_slices)]\n",
    "img_coronal_all_slices = [data_cropped[:, i, :] for i in range(coronal_num_slices)]\n",
    "img_axial_all_slices = [np.rot90(data_cropped[:, :, i]) for i in range(axial_num_slices)]\n",
    "\n",
    "# Create functions that update the displayed slice for each view\n",
    "def sagittal_plot_slice(slice_idx):\n",
    "    plt.figure(figsize=(5, 5))\n",
    "    plt.imshow(img_sagittal_all_slices[slice_idx], cmap='gray')\n",
    "    plt.title(f'Sagittal Slice {slice_idx} (Cropped, Rotated, Flipped)')\n",
    "    plt.xlabel('y')\n",
    "    plt.ylabel('z')\n",
    "    plt.show()\n",
    "\n",
    "def coronal_plot_slice(slice_idx):\n",
    "    plt.figure(figsize=(5, 5))\n",
    "    plt.imshow(img_coronal_all_slices[slice_idx], cmap='gray')\n",
    "    plt.title(f'Coronal Slice {slice_idx} (Cropped, Rotated, Flipped)')\n",
    "    plt.xlabel('z')\n",
    "    plt.ylabel('x')\n",
    "    plt.show()\n",
    "\n",
    "def axial_plot_slice(slice_idx):\n",
    "    plt.figure(figsize=(5, 5))\n",
    "    plt.imshow(img_axial_all_slices[slice_idx], cmap='gray')\n",
    "    plt.title(f'Axial Slice {slice_idx} (Cropped, Rotated, Flipped)')\n",
    "    plt.xlabel('x')\n",
    "    plt.ylabel('y')\n",
    "    plt.show()\n",
    "\n",
    "# Create sliders for each axis\n",
    "sagittal_slice_slider = widgets.IntSlider(value=sagittal_slice, min=0, max=sagittal_num_slices - 1, step=1, description='Sagittal Slice:')\n",
    "coronal_slice_slider = widgets.IntSlider(value=coronal_slice, min=0, max=coronal_num_slices - 1, step=1, description='Coronal Slice:')\n",
    "axial_slice_slider = widgets.IntSlider(value=axial_slice, min=0, max=axial_num_slices - 1, step=1, description='Axial Slice:')\n",
    "\n",
    "# Create interactive plots for each view\n",
    "sagittal_interactive_plot = widgets.interactive(sagittal_plot_slice, slice_idx=sagittal_slice_slider)\n",
    "coronal_interactive_plot = widgets.interactive(coronal_plot_slice, slice_idx=coronal_slice_slider)\n",
    "axial_interactive_plot = widgets.interactive(axial_plot_slice, slice_idx=axial_slice_slider)\n",
    "\n",
    "# Display each interactive plot separately with its own slider\n",
    "display(sagittal_interactive_plot)\n",
    "display(coronal_interactive_plot)\n",
    "display(axial_interactive_plot)"
   ]
  },
  {
   "cell_type": "code",
   "execution_count": 69,
   "metadata": {},
   "outputs": [],
   "source": [
    "# Visualize one slice in all three directions from one object in your phantom\n",
    "\n",
    "### ANSWER: See the code above."
   ]
  },
  {
   "cell_type": "markdown",
   "metadata": {},
   "source": [
    "### TASK 1: Hounsfield Units\n",
    " - \"Also, think about the tissue properties that generate contrast in CT imaging and draw conclusions about why\n",
    "you might see less objects than with the previous modalities.\":\n",
    "    - The brightness in CT images is dynamically adjusted so that the brightest point is always shown as white and the darkest as black. When you crop the image or change the slice, the intensity scale adjusts, making the new brightest point white. As a result, something that was previously the brightest may appear less bright in the new view. This dynamic scaling can make it harder to distinguish certain objects, especially those with similar intensity values, because the contrast is redistributed."
   ]
  },
  {
   "cell_type": "code",
   "execution_count": 70,
   "metadata": {},
   "outputs": [
    {
     "data": {
      "application/vnd.jupyter.widget-view+json": {
       "model_id": "8e062ce1eaba4a48aa792f32085e9060",
       "version_major": 2,
       "version_minor": 0
      },
      "text/plain": [
       "interactive(children=(IntSlider(value=46, description='Sagittal Slice:', max=91), Output()), _dom_classes=('wi…"
      ]
     },
     "metadata": {},
     "output_type": "display_data"
    },
    {
     "data": {
      "application/vnd.jupyter.widget-view+json": {
       "model_id": "5f4c9ae4d4a946dfb917549a19c57650",
       "version_major": 2,
       "version_minor": 0
      },
      "text/plain": [
       "interactive(children=(IntSlider(value=32, description='Coronal Slice:', max=64), Output()), _dom_classes=('wid…"
      ]
     },
     "metadata": {},
     "output_type": "display_data"
    },
    {
     "data": {
      "application/vnd.jupyter.widget-view+json": {
       "model_id": "0f4e588147254f1c92f5d7aa44de3784",
       "version_major": 2,
       "version_minor": 0
      },
      "text/plain": [
       "interactive(children=(IntSlider(value=31, description='Axial Slice:', max=129), Output()), _dom_classes=('widg…"
      ]
     },
     "metadata": {},
     "output_type": "display_data"
    }
   ],
   "source": [
    "# Plot one slice of your image and add a colorbar to investigate the intensity values\n",
    "\n",
    "### We are plotting the same but this time with a colorbar. Notice, the color bar adjusts according to the intensity values in the interactive plot.\n",
    "### Hounsfield-enheder (HU) bruges til at måle tætheden af væv i CT-billeder, og forskellige vævstyper har forskellige HU-værdier.\n",
    "import numpy as np\n",
    "import matplotlib.pyplot as plt\n",
    "import ipywidgets as widgets\n",
    "from IPython.display import display\n",
    "\n",
    "# Assuming 'data_cropped', 'img_sagittal_all_slices', 'img_coronal_all_slices', and 'img_axial_all_slices' are already defined as in your code\n",
    "\n",
    "# Create functions that update the displayed slice for each view, now with a colorbar\n",
    "def sagittal_plot_slice(slice_idx):\n",
    "    plt.figure(figsize=(5, 5))\n",
    "    plt.imshow(img_sagittal_all_slices[slice_idx], cmap='gray')\n",
    "    plt.title(f'Sagittal Slice {slice_idx} (Cropped, Rotated, Flipped)')\n",
    "    plt.xlabel('y')\n",
    "    plt.ylabel('z')\n",
    "    plt.colorbar(label='Intensity Values (HU)')  # Added colorbar here\n",
    "    plt.show()\n",
    "\n",
    "def coronal_plot_slice(slice_idx):\n",
    "    plt.figure(figsize=(5, 5))\n",
    "    plt.imshow(img_coronal_all_slices[slice_idx], cmap='gray')\n",
    "    plt.title(f'Coronal Slice {slice_idx} (Cropped, Rotated, Flipped)')\n",
    "    plt.xlabel('z')\n",
    "    plt.ylabel('x')\n",
    "    plt.colorbar(label='Intensity Values (HU)')  # Added colorbar here\n",
    "    plt.show()\n",
    "\n",
    "def axial_plot_slice(slice_idx):\n",
    "    plt.figure(figsize=(5, 5))\n",
    "    plt.imshow(img_axial_all_slices[slice_idx], cmap='gray')\n",
    "    plt.title(f'Axial Slice {slice_idx} (Cropped, Rotated, Flipped)')\n",
    "    plt.xlabel('x')\n",
    "    plt.ylabel('y')\n",
    "    plt.colorbar(label='Intensity Values (HU)')  # Added colorbar here\n",
    "    plt.show()\n",
    "\n",
    "# Create sliders for each axis\n",
    "sagittal_slice_slider = widgets.IntSlider(\n",
    "    value=sagittal_slice,\n",
    "    min=0,\n",
    "    max=sagittal_num_slices - 1,\n",
    "    step=1,\n",
    "    description='Sagittal Slice:'\n",
    ")\n",
    "coronal_slice_slider = widgets.IntSlider(\n",
    "    value=coronal_slice,\n",
    "    min=0,\n",
    "    max=coronal_num_slices - 1,\n",
    "    step=1,\n",
    "    description='Coronal Slice:'\n",
    ")\n",
    "axial_slice_slider = widgets.IntSlider(\n",
    "    value=axial_slice,\n",
    "    min=0,\n",
    "    max=axial_num_slices - 1,\n",
    "    step=1,\n",
    "    description='Axial Slice:'\n",
    ")\n",
    "\n",
    "# Create interactive plots for each view\n",
    "sagittal_interactive_plot = widgets.interactive(sagittal_plot_slice, slice_idx=sagittal_slice_slider)\n",
    "coronal_interactive_plot = widgets.interactive(coronal_plot_slice, slice_idx=coronal_slice_slider)\n",
    "axial_interactive_plot = widgets.interactive(axial_plot_slice, slice_idx=axial_slice_slider)\n",
    "\n",
    "# Display each interactive plot separately with its own slider\n",
    "display(sagittal_interactive_plot)\n",
    "display(coronal_interactive_plot)\n",
    "display(axial_interactive_plot)"
   ]
  },
  {
   "cell_type": "markdown",
   "metadata": {},
   "source": [
    "### TASK 2: Histogram\n",
    "\n",
    "**Useful functions**\n",
    "- `plt.hist(X, bins=)`\n",
    "- `.ravel()`\n",
    "\n",
    "Tip: X must be a 1D array"
   ]
  },
  {
   "cell_type": "markdown",
   "metadata": {},
   "source": [
    "The histogram for the entire 3D cropped volume"
   ]
  },
  {
   "cell_type": "code",
   "execution_count": 71,
   "metadata": {},
   "outputs": [
    {
     "data": {
      "image/png": "[encoded data removed]",
      "text/plain": [
       "<Figure size 1000x600 with 1 Axes>"
      ]
     },
     "metadata": {},
     "output_type": "display_data"
    }
   ],
   "source": [
    "# Plot histogram\n",
    "\n",
    "import numpy as np\n",
    "import matplotlib.pyplot as plt\n",
    "\n",
    "# Flatten the cropped image data into a 1D array\n",
    "image_data_1d = data_cropped.ravel()\n",
    "\n",
    "# Plot the histogram\n",
    "plt.figure(figsize=(10, 6))\n",
    "plt.hist(image_data_1d, bins=1000, color='blue', alpha=0.7)\n",
    "plt.title('Histogram of Hounsfield Units in Cropped Image')\n",
    "plt.xlabel('Hounsfield Units (HU)')\n",
    "plt.ylabel('Number of Pixels')\n",
    "plt.xlim([-1200, 2000])  # Adjust the x-axis limits as needed. Typical HU values for medical images range from -1000 (air) to around 2000 (dense bone)\n",
    "plt.grid(True)\n",
    "plt.show()"
   ]
  },
  {
   "cell_type": "markdown",
   "metadata": {},
   "source": [
    "Plot a histogram of the Hounsfield Units (HU) for a single 2D slice (axial slice 31) from the cropped data"
   ]
  },
  {
   "cell_type": "code",
   "execution_count": 72,
   "metadata": {},
   "outputs": [
    {
     "data": {
      "image/png": "[encoded data removed]",
      "text/plain": [
       "<Figure size 1000x600 with 1 Axes>"
      ]
     },
     "metadata": {},
     "output_type": "display_data"
    }
   ],
   "source": [
    "import numpy as np\n",
    "import matplotlib.pyplot as plt\n",
    "\n",
    "# Assuming 'img_axial_all_slices' is already defined and contains the preprocessed slices\n",
    "\n",
    "# Step 1: Select the axial slice index\n",
    "axial_slice_index = 31  # Adjust as needed\n",
    "\n",
    "# Step 2: Extract the 2D image data for the specified slice\n",
    "slice_data = img_axial_all_slices[axial_slice_index]\n",
    "\n",
    "# Step 3: Flatten the 2D slice data into a 1D array\n",
    "slice_data_1d = slice_data.ravel()\n",
    "\n",
    "# Step 4: Plot the histogram\n",
    "plt.figure(figsize=(10, 6))\n",
    "plt.hist(slice_data_1d, bins=256, color='blue', alpha=0.7)\n",
    "plt.title(f'Histogram of Hounsfield Units in Axial Slice {axial_slice_index}')\n",
    "plt.xlabel('Hounsfield Units (HU)')\n",
    "plt.ylabel('Number of Pixels')\n",
    "plt.xlim([-1200, 3300])  # Adjust the x-axis limits as needed\n",
    "plt.grid(True)\n",
    "plt.show()"
   ]
  },
  {
   "cell_type": "markdown",
   "metadata": {},
   "source": [
    "Cropped axial, coronal and saggital 2D images with color bar and histograms"
   ]
  },
  {
   "cell_type": "code",
   "execution_count": 73,
   "metadata": {},
   "outputs": [
    {
     "data": {
      "application/vnd.jupyter.widget-view+json": {
       "model_id": "934196f41280496da8ed3e2ddee65391",
       "version_major": 2,
       "version_minor": 0
      },
      "text/plain": [
       "interactive(children=(IntSlider(value=46, description='Sagittal Slice:', max=91), Output()), _dom_classes=('wi…"
      ]
     },
     "metadata": {},
     "output_type": "display_data"
    },
    {
     "data": {
      "application/vnd.jupyter.widget-view+json": {
       "model_id": "b86583e3787345788d680688c31d9bba",
       "version_major": 2,
       "version_minor": 0
      },
      "text/plain": [
       "interactive(children=(IntSlider(value=30, description='Coronal Slice:', max=64), Output()), _dom_classes=('wid…"
      ]
     },
     "metadata": {},
     "output_type": "display_data"
    },
    {
     "data": {
      "application/vnd.jupyter.widget-view+json": {
       "model_id": "a3352e2a0203423c819134c36e3c862b",
       "version_major": 2,
       "version_minor": 0
      },
      "text/plain": [
       "interactive(children=(IntSlider(value=31, description='Axial Slice:', max=129), Output()), _dom_classes=('widg…"
      ]
     },
     "metadata": {},
     "output_type": "display_data"
    },
    {
     "data": {
      "application/vnd.jupyter.widget-view+json": {
       "model_id": "81bf137ca543407e82421763a316efb4",
       "version_major": 2,
       "version_minor": 0
      },
      "text/plain": [
       "Button(description='Save Histogram', style=ButtonStyle())"
      ]
     },
     "metadata": {},
     "output_type": "display_data"
    }
   ],
   "source": [
    "import matplotlib.pyplot as plt\n",
    "import ipywidgets as widgets\n",
    "from IPython.display import display\n",
    "\n",
    "# Assuming 'img_axial_all_slices', 'img_coronal_all_slices', 'img_sagittal_all_slices',\n",
    "# 'axial_num_slices', 'coronal_num_slices', 'sagittal_num_slices',\n",
    "# 'axial_slice', 'coronal_slice', and 'sagittal_slice' are already defined in your code.\n",
    "\n",
    "sagittal_slice = 46\n",
    "coronal_slice = 30\n",
    "axial_slice = 31\n",
    "\n",
    "# Global variables to hold the current histogram figure and metadata for saving\n",
    "current_hist_fig = None\n",
    "current_orientation = None\n",
    "current_slice_idx = None\n",
    "\n",
    "### Axial Slice with Histogram\n",
    "def axial_plot_slice_with_histogram(slice_idx):\n",
    "    global current_hist_fig, current_orientation, current_slice_idx\n",
    "    orientation = \"axial\"\n",
    "    \n",
    "    # Extract the slice data\n",
    "    slice_data = img_axial_all_slices[slice_idx]\n",
    "    slice_data_1d = slice_data.ravel()\n",
    "    \n",
    "    # Create a figure with two subplots (displayed)\n",
    "    fig, axes = plt.subplots(1, 2, figsize=(12, 5))\n",
    "    \n",
    "    # Plot the axial slice\n",
    "    im = axes[0].imshow(slice_data, cmap='gray')\n",
    "    axes[0].set_title(f'Axial Slice {slice_idx} (Cropped, Rotated, Flipped)')\n",
    "    axes[0].set_xlabel('x')\n",
    "    axes[0].set_ylabel('y')\n",
    "    fig.colorbar(im, ax=axes[0], label='Intensity Values (HU)')\n",
    "    \n",
    "    # Plot the histogram (on the right subplot)\n",
    "    axes[1].hist(slice_data_1d, bins=256, color='blue', alpha=0.7)\n",
    "    axes[1].set_title(f'Histogram of Hounsfield Units in Axial Slice {slice_idx}')\n",
    "    axes[1].set_xlabel('Hounsfield Units (HU)')\n",
    "    axes[1].set_ylabel('Number of Pixels')\n",
    "    axes[1].set_xlim([-1000, 4000])  # Adjust as needed\n",
    "    axes[1].set_ylim([0, 200])\n",
    "    axes[1].grid(True)\n",
    "    \n",
    "    plt.tight_layout()\n",
    "    plt.show()\n",
    "    \n",
    "    # Now create a separate figure for the histogram only (not displayed)\n",
    "    hist_fig = plt.figure(figsize=(6, 5))\n",
    "    plt.hist(slice_data_1d, bins=256, color='blue', alpha=0.7)\n",
    "    plt.title(f'{orientation.capitalize()} Slice {slice_idx} Histogram')\n",
    "    plt.xlabel('Hounsfield Units (HU)')\n",
    "    plt.ylabel('Number of Pixels')\n",
    "    plt.xlim([-1000, 4000])  # Adjust as needed\n",
    "    plt.ylim([0, 200])\n",
    "    plt.grid(True)\n",
    "    # Do not show this figure - just store it\n",
    "    # Close it after creation so it doesn't clutter the notebook\n",
    "    plt.close(hist_fig)\n",
    "    \n",
    "    # Store the histogram figure and metadata globally\n",
    "    current_hist_fig = hist_fig\n",
    "    current_orientation = orientation\n",
    "    current_slice_idx = slice_idx\n",
    "\n",
    "# Create an interactive slider for axial slice\n",
    "axial_slice_slider = widgets.IntSlider(\n",
    "    value=axial_slice,\n",
    "    min=0,\n",
    "    max=axial_num_slices - 1,\n",
    "    step=1,\n",
    "    description='Axial Slice:'\n",
    ")\n",
    "\n",
    "axial_interactive_plot = widgets.interactive(axial_plot_slice_with_histogram, slice_idx=axial_slice_slider)\n",
    "\n",
    "### Coronal Slice with Histogram\n",
    "def coronal_plot_slice_with_histogram(slice_idx):\n",
    "    global current_hist_fig, current_orientation, current_slice_idx\n",
    "    orientation = \"coronal\"\n",
    "    \n",
    "    # Extract the slice data\n",
    "    slice_data = img_coronal_all_slices[slice_idx]\n",
    "    slice_data_1d = slice_data.ravel()\n",
    "    \n",
    "    # Create a figure with two subplots (displayed)\n",
    "    fig, axes = plt.subplots(1, 2, figsize=(12, 5))\n",
    "    \n",
    "    # Plot the coronal slice\n",
    "    im = axes[0].imshow(slice_data, cmap='gray')\n",
    "    axes[0].set_title(f'Coronal Slice {slice_idx} (Cropped, Rotated, Flipped)')\n",
    "    axes[0].set_xlabel('z')\n",
    "    axes[0].set_ylabel('x')\n",
    "    fig.colorbar(im, ax=axes[0], label='Intensity Values (HU)')\n",
    "    \n",
    "    # Plot the histogram (on the right subplot)\n",
    "    axes[1].hist(slice_data_1d, bins=256, color='blue', alpha=0.7)\n",
    "    axes[1].set_title(f'Histogram of Hounsfield Units in Coronal Slice {slice_idx}')\n",
    "    axes[1].set_xlabel('Hounsfield Units (HU)')\n",
    "    axes[1].set_ylabel('Number of Pixels')\n",
    "    axes[1].set_xlim([-1000, 4000])  # Adjust as needed\n",
    "    axes[1].set_ylim([0, 200])\n",
    "    axes[1].grid(True)\n",
    "    \n",
    "    plt.tight_layout()\n",
    "    plt.show()\n",
    "    \n",
    "    # Now create a separate figure for the histogram only (not displayed)\n",
    "    hist_fig = plt.figure(figsize=(6, 5))\n",
    "    plt.hist(slice_data_1d, bins=256, color='blue', alpha=0.7)\n",
    "    plt.title(f'{orientation.capitalize()} Slice {slice_idx} Histogram')\n",
    "    plt.xlabel('Hounsfield Units (HU)')\n",
    "    plt.ylabel('Number of Pixels')\n",
    "    plt.xlim([-1000, 4000])  # Adjust as needed\n",
    "    plt.ylim([0, 200])\n",
    "    plt.grid(True)\n",
    "    plt.close(hist_fig)\n",
    "    \n",
    "    current_hist_fig = hist_fig\n",
    "    current_orientation = orientation\n",
    "    current_slice_idx = slice_idx\n",
    "\n",
    "# Create an interactive slider for coronal slice\n",
    "coronal_slice_slider = widgets.IntSlider(\n",
    "    value=coronal_slice,\n",
    "    min=0,\n",
    "    max=coronal_num_slices - 1,\n",
    "    step=1,\n",
    "    description='Coronal Slice:'\n",
    ")\n",
    "\n",
    "coronal_interactive_plot = widgets.interactive(coronal_plot_slice_with_histogram, slice_idx=coronal_slice_slider)\n",
    "\n",
    "### Sagittal Slice with Histogram\n",
    "def sagittal_plot_slice_with_histogram(slice_idx):\n",
    "    global current_hist_fig, current_orientation, current_slice_idx\n",
    "    orientation = \"sagittal\"\n",
    "    \n",
    "    # Extract the slice data\n",
    "    slice_data = img_sagittal_all_slices[slice_idx]\n",
    "    slice_data_1d = slice_data.ravel()\n",
    "    \n",
    "    # Create a figure with two subplots (displayed)\n",
    "    fig, axes = plt.subplots(1, 2, figsize=(12, 5))\n",
    "    \n",
    "    # Plot the sagittal slice\n",
    "    im = axes[0].imshow(slice_data, cmap='gray')\n",
    "    axes[0].set_title(f'Sagittal Slice {slice_idx} (Cropped, Rotated, Flipped)')\n",
    "    axes[0].set_xlabel('y')\n",
    "    axes[0].set_ylabel('z')\n",
    "    fig.colorbar(im, ax=axes[0], label='Intensity Values (HU)')\n",
    "    \n",
    "    # Plot the histogram (on the right subplot)\n",
    "    axes[1].hist(slice_data_1d, bins=256, color='blue', alpha=0.7)\n",
    "    axes[1].set_title(f'Histogram of Hounsfield Units in Sagittal Slice {slice_idx}')\n",
    "    axes[1].set_xlabel('Hounsfield Units (HU)')\n",
    "    axes[1].set_ylabel('Number of Pixels')\n",
    "    axes[1].set_xlim([-1300, 4000])  # Adjust as needed\n",
    "    axes[1].set_ylim([0, 200])\n",
    "    axes[1].grid(True)\n",
    "    \n",
    "    plt.tight_layout()\n",
    "    plt.show()\n",
    "    \n",
    "    # Now create a separate figure for the histogram only (not displayed)\n",
    "    hist_fig = plt.figure(figsize=(6, 5))\n",
    "    plt.hist(slice_data_1d, bins=256, color='blue', alpha=0.7)\n",
    "    plt.title(f'{orientation.capitalize()} Slice {slice_idx} Histogram')\n",
    "    plt.xlabel('Hounsfield Units (HU)')\n",
    "    plt.ylabel('Number of Pixels')\n",
    "    plt.xlim([-1300, 4000])  # Adjust as needed\n",
    "    plt.ylim([0, 200])\n",
    "    plt.grid(True)\n",
    "    plt.close(hist_fig)\n",
    "    \n",
    "    current_hist_fig = hist_fig\n",
    "    current_orientation = orientation\n",
    "    current_slice_idx = slice_idx\n",
    "\n",
    "# Create an interactive slider for sagittal slice\n",
    "sagittal_slice_slider = widgets.IntSlider(\n",
    "    value=sagittal_slice,\n",
    "    min=0,\n",
    "    max=sagittal_num_slices - 1,\n",
    "    step=1,\n",
    "    description='Sagittal Slice:'\n",
    ")\n",
    "\n",
    "sagittal_interactive_plot = widgets.interactive(sagittal_plot_slice_with_histogram, slice_idx=sagittal_slice_slider)\n",
    "\n",
    "# Button to save the currently displayed histogram\n",
    "save_button = widgets.Button(description='Save Histogram')\n",
    "\n",
    "def save_histogram(b):\n",
    "    global current_hist_fig, current_orientation, current_slice_idx\n",
    "    if current_hist_fig is not None and current_orientation is not None and current_slice_idx is not None:\n",
    "        filename = f'{current_orientation}_slice_{current_slice_idx}_histogram.png'\n",
    "        current_hist_fig.savefig(filename, bbox_inches='tight')\n",
    "        print(f\"Histogram saved as '{filename}'\")\n",
    "    else:\n",
    "        print(\"No histogram to save!\")\n",
    "\n",
    "save_button.on_click(save_histogram)\n",
    "\n",
    "# Display the interactive plots and the save button\n",
    "display(sagittal_interactive_plot)\n",
    "display(coronal_interactive_plot)\n",
    "display(axial_interactive_plot)\n",
    "display(save_button)\n"
   ]
  },
  {
   "attachments": {
    "image.png": {
     "image/png": "[encoded data removed]"
    }
   },
   "cell_type": "markdown",
   "metadata": {},
   "source": [
    "### TASK 3: Window level function \n",
    "Write a window level function to view a meaningful range of values in your image.\n",
    "\n",
    " - We can probably see the stick (?) at axial slice=100 in the lower right corner – you can see a darker line going grom the lower right corner pointing somehow towards the upper left corner.\n",
    "\n",
    " - ![image.png](attachment:image.png)"
   ]
  },
  {
   "cell_type": "code",
   "execution_count": 74,
   "metadata": {},
   "outputs": [
    {
     "data": {
      "application/vnd.jupyter.widget-view+json": {
       "model_id": "137490caa6514037ac562c6bfbf55d75",
       "version_major": 2,
       "version_minor": 0
      },
      "text/plain": [
       "interactive(children=(IntSlider(value=46, description='Sagittal Slice:', max=91), IntSlider(value=400, descrip…"
      ]
     },
     "metadata": {},
     "output_type": "display_data"
    },
    {
     "data": {
      "application/vnd.jupyter.widget-view+json": {
       "model_id": "4d7c5cb57a58419186023b0bd663a513",
       "version_major": 2,
       "version_minor": 0
      },
      "text/plain": [
       "Button(description='Save Sagittal Slice', style=ButtonStyle())"
      ]
     },
     "metadata": {},
     "output_type": "display_data"
    },
    {
     "data": {
      "application/vnd.jupyter.widget-view+json": {
       "model_id": "a7a13060655e4fd3b840c2162c347c1c",
       "version_major": 2,
       "version_minor": 0
      },
      "text/plain": [
       "interactive(children=(IntSlider(value=30, description='Coronal Slice:', max=64), IntSlider(value=400, descript…"
      ]
     },
     "metadata": {},
     "output_type": "display_data"
    },
    {
     "data": {
      "application/vnd.jupyter.widget-view+json": {
       "model_id": "e4af1923be64413ba1e9ed3eb1eb1668",
       "version_major": 2,
       "version_minor": 0
      },
      "text/plain": [
       "Button(description='Save Coronal Slice', style=ButtonStyle())"
      ]
     },
     "metadata": {},
     "output_type": "display_data"
    },
    {
     "data": {
      "application/vnd.jupyter.widget-view+json": {
       "model_id": "953b3112e6414f178e5fe4d67b0ec9f2",
       "version_major": 2,
       "version_minor": 0
      },
      "text/plain": [
       "interactive(children=(IntSlider(value=31, description='Axial Slice:', max=129), IntSlider(value=400, descripti…"
      ]
     },
     "metadata": {},
     "output_type": "display_data"
    },
    {
     "data": {
      "application/vnd.jupyter.widget-view+json": {
       "model_id": "e753d04ddcff4acfabf9e4883a0a1517",
       "version_major": 2,
       "version_minor": 0
      },
      "text/plain": [
       "Button(description='Save Axial Slice', style=ButtonStyle())"
      ]
     },
     "metadata": {},
     "output_type": "display_data"
    }
   ],
   "source": [
    "import matplotlib.pyplot as plt\n",
    "import ipywidgets as widgets\n",
    "from IPython.display import display\n",
    "import numpy as np\n",
    "\n",
    "# Assuming 'img_axial_all_slices', 'img_coronal_all_slices', 'img_sagittal_all_slices',\n",
    "# 'axial_num_slices', 'coronal_num_slices', 'sagittal_num_slices' are already defined in your code.\n",
    "\n",
    "# Window-Level Transformation Function\n",
    "def window_level(image, window, level):\n",
    "    upper_bound = level + (window / 2)\n",
    "    lower_bound = level - (window / 2)\n",
    "    \n",
    "    # Clip the image values to the window range\n",
    "    Xclipped = np.maximum(np.minimum(image, upper_bound), lower_bound)\n",
    "    \n",
    "    # Normalize the clipped values\n",
    "    X_WL = (Xclipped - lower_bound) / (upper_bound - lower_bound)\n",
    "    \n",
    "    return X_WL, lower_bound, upper_bound  # Return bounds for use in plotting\n",
    "\n",
    "# Define default values for window and level\n",
    "default_window = 400\n",
    "default_level = 0\n",
    "\n",
    "sagittal_slice = 46\n",
    "coronal_slice = 30\n",
    "axial_slice = 31\n",
    "\n",
    "### Axial Slice with Histogram\n",
    "def axial_plot_slice_with_histogram(slice_idx, window, level):\n",
    "    # Extract the slice data\n",
    "    slice_data = img_axial_all_slices[slice_idx]\n",
    "    \n",
    "    # Apply window-level transformation\n",
    "    slice_data_WL, lower_bound, upper_bound = window_level(slice_data, window, level)\n",
    "    \n",
    "    # Flatten the windowed data for histogram\n",
    "    slice_data_1d = slice_data_WL.ravel()\n",
    "    \n",
    "    # Create a figure with two subplots\n",
    "    fig, axes = plt.subplots(1, 2, figsize=(12, 5))\n",
    "    \n",
    "    # Plot the axial slice with window-level transformation\n",
    "    im = axes[0].imshow(slice_data_WL, cmap='gray', vmin=0, vmax=1)\n",
    "    axes[0].set_title(f'Axial Slice {slice_idx} (Window: {window}, Level: {level})')\n",
    "    axes[0].set_xlabel('x')\n",
    "    axes[0].set_ylabel('y')\n",
    "    fig.colorbar(im, ax=axes[0], label='Normalized Intensity')\n",
    "    \n",
    "    # Plot the histogram\n",
    "    axes[1].hist(slice_data.ravel(), bins=256, color='blue', alpha=0.7)\n",
    "    axes[1].set_title(f'Histogram of Hounsfield Units in Axial Slice {slice_idx}')\n",
    "    axes[1].set_xlabel('Hounsfield Units (HU)')\n",
    "    axes[1].set_ylabel('Number of Pixels')\n",
    "    axes[1].set_xlim([lower_bound, upper_bound])  # Set x-axis limits to window range\n",
    "    axes[1].grid(True)\n",
    "    \n",
    "    plt.tight_layout()\n",
    "    plt.show()\n",
    "\n",
    "# Create interactive sliders for axial slice\n",
    "axial_slice_slider = widgets.IntSlider(value=axial_slice, min=0, max=axial_num_slices - 1, step=1, description='Axial Slice:')\n",
    "axial_window_slider = widgets.IntSlider(value=default_window, min=100, max=2000, step=100, description='Window:')\n",
    "axial_level_slider = widgets.IntSlider(value=default_level, min=-1000, max=1000, step=50, description='Level:')\n",
    "\n",
    "axial_interactive_plot = widgets.interactive(axial_plot_slice_with_histogram, \n",
    "                                             slice_idx=axial_slice_slider, \n",
    "                                             window=axial_window_slider, \n",
    "                                             level=axial_level_slider)\n",
    "\n",
    "### Coronal Slice with Histogram\n",
    "def coronal_plot_slice_with_histogram(slice_idx, window, level):\n",
    "    # Extract the slice data\n",
    "    slice_data = img_coronal_all_slices[slice_idx]\n",
    "    \n",
    "    # Apply window-level transformation\n",
    "    slice_data_WL, lower_bound, upper_bound = window_level(slice_data, window, level)\n",
    "    \n",
    "    # Flatten the windowed data for histogram\n",
    "    slice_data_1d = slice_data_WL.ravel()\n",
    "    \n",
    "    # Create a figure with two subplots\n",
    "    fig, axes = plt.subplots(1, 2, figsize=(12, 5))\n",
    "    \n",
    "    # Plot the coronal slice with window-level transformation\n",
    "    im = axes[0].imshow(slice_data_WL, cmap='gray', vmin=0, vmax=1)\n",
    "    axes[0].set_title(f'Coronal Slice {slice_idx} (Window: {window}, Level: {level})')\n",
    "    axes[0].set_xlabel('z')\n",
    "    axes[0].set_ylabel('x')\n",
    "    fig.colorbar(im, ax=axes[0], label='Normalized Intensity')\n",
    "    \n",
    "    # Plot the histogram\n",
    "    axes[1].hist(slice_data.ravel(), bins=256, color='blue', alpha=0.7)\n",
    "    axes[1].set_title(f'Histogram of Hounsfield Units in Coronal Slice {slice_idx}')\n",
    "    axes[1].set_xlabel('Hounsfield Units (HU)')\n",
    "    axes[1].set_ylabel('Number of Pixels')\n",
    "    axes[1].set_xlim([lower_bound, upper_bound])  # Set x-axis limits to window range\n",
    "    axes[1].grid(True)\n",
    "    \n",
    "    plt.tight_layout()\n",
    "    plt.show()\n",
    "\n",
    "# Create interactive sliders for coronal slice\n",
    "coronal_slice_slider = widgets.IntSlider(value=coronal_slice, min=0, max=coronal_num_slices - 1, step=1, description='Coronal Slice:')\n",
    "coronal_window_slider = widgets.IntSlider(value=default_window, min=100, max=2000, step=100, description='Window:')\n",
    "coronal_level_slider = widgets.IntSlider(value=default_level, min=-1000, max=1000, step=50, description='Level:')\n",
    "\n",
    "coronal_interactive_plot = widgets.interactive(coronal_plot_slice_with_histogram, \n",
    "                                               slice_idx=coronal_slice_slider, \n",
    "                                               window=coronal_window_slider, \n",
    "                                               level=coronal_level_slider)\n",
    "\n",
    "### Sagittal Slice with Histogram\n",
    "def sagittal_plot_slice_with_histogram(slice_idx, window, level):\n",
    "    # Extract the slice data\n",
    "    slice_data = img_sagittal_all_slices[slice_idx]\n",
    "    \n",
    "    # Apply window-level transformation\n",
    "    slice_data_WL, lower_bound, upper_bound = window_level(slice_data, window, level)\n",
    "    \n",
    "    # Flatten the windowed data for histogram\n",
    "    slice_data_1d = slice_data_WL.ravel()\n",
    "    \n",
    "    # Create a figure with two subplots\n",
    "    fig, axes = plt.subplots(1, 2, figsize=(12, 5))\n",
    "    \n",
    "    # Plot the sagittal slice with window-level transformation\n",
    "    im = axes[0].imshow(slice_data_WL, cmap='gray', vmin=0, vmax=1)\n",
    "    axes[0].set_title(f'Sagittal Slice {slice_idx} (Window: {window}, Level: {level})')\n",
    "    axes[0].set_xlabel('y')\n",
    "    axes[0].set_ylabel('z')\n",
    "    fig.colorbar(im, ax=axes[0], label='Normalized Intensity')\n",
    "    \n",
    "    # Plot the histogram\n",
    "    axes[1].hist(slice_data.ravel(), bins=256, color='blue', alpha=0.7)\n",
    "    axes[1].set_title(f'Histogram of Hounsfield Units in Sagittal Slice {slice_idx}')\n",
    "    axes[1].set_xlabel('Hounsfield Units (HU)')\n",
    "    axes[1].set_ylabel('Number of Pixels')\n",
    "    axes[1].set_xlim([lower_bound, upper_bound])  # Set x-axis limits to window range\n",
    "    axes[1].grid(True)\n",
    "    \n",
    "    plt.tight_layout()\n",
    "    plt.show()\n",
    "\n",
    "# Add Save Functionality\n",
    "def save_slice_as_png(slice_data, window, level, slice_idx, slice_type):\n",
    "    # Apply window-level transformation\n",
    "    slice_data_WL, _, _ = window_level(slice_data, window, level)\n",
    "    \n",
    "    # Plot the slice\n",
    "    plt.figure(figsize=(6, 6))\n",
    "    plt.imshow(slice_data_WL, cmap='gray', vmin=0, vmax=1)\n",
    "    plt.title(f'{slice_type} Slice {slice_idx} (Window: {window}, Level: {level})')\n",
    "    plt.xlabel('x')\n",
    "    plt.ylabel('y')\n",
    "    plt.colorbar(label='Normalized Intensity')\n",
    "    \n",
    "    # Save the plot as PNG\n",
    "    filename = f\"{slice_type}_Slice_{slice_idx}_Window_{window}_Level_{level}.png\"\n",
    "    plt.savefig(filename, dpi=300)\n",
    "    plt.close()\n",
    "    print(f\"Saved {filename}\")\n",
    "\n",
    "# Add Save Button and Functionality to Axial Slice\n",
    "def axial_save_slice(slice_idx, window, level):\n",
    "    slice_data = img_axial_all_slices[slice_idx]\n",
    "    save_slice_as_png(slice_data, window, level, slice_idx, \"Axial\")\n",
    "\n",
    "axial_save_button = widgets.Button(description=\"Save Axial Slice\")\n",
    "axial_save_button.on_click(lambda _: axial_save_slice(axial_slice_slider.value, axial_window_slider.value, axial_level_slider.value))\n",
    "\n",
    "# Add Save Button and Functionality to Coronal Slice\n",
    "def coronal_save_slice(slice_idx, window, level):\n",
    "    slice_data = img_coronal_all_slices[slice_idx]\n",
    "    save_slice_as_png(slice_data, window, level, slice_idx, \"Coronal\")\n",
    "\n",
    "coronal_save_button = widgets.Button(description=\"Save Coronal Slice\")\n",
    "coronal_save_button.on_click(lambda _: coronal_save_slice(coronal_slice_slider.value, coronal_window_slider.value, coronal_level_slider.value))\n",
    "\n",
    "# Add Save Button and Functionality to Sagittal Slice\n",
    "def sagittal_save_slice(slice_idx, window, level):\n",
    "    slice_data = img_sagittal_all_slices[slice_idx]\n",
    "    save_slice_as_png(slice_data, window, level, slice_idx, \"Sagittal\")\n",
    "\n",
    "sagittal_save_button = widgets.Button(description=\"Save Sagittal Slice\")\n",
    "sagittal_save_button.on_click(lambda _: sagittal_save_slice(sagittal_slice_slider.value, sagittal_window_slider.value, sagittal_level_slider.value))\n",
    "\n",
    "\n",
    "\n",
    "# Create interactive sliders for sagittal slice\n",
    "sagittal_slice_slider = widgets.IntSlider(value=sagittal_slice, min=0, max=sagittal_num_slices - 1, step=1, description='Sagittal Slice:')\n",
    "sagittal_window_slider = widgets.IntSlider(value=default_window, min=100, max=2000, step=100, description='Window:')\n",
    "sagittal_level_slider = widgets.IntSlider(value=default_level, min=-1000, max=1000, step=50, description='Level:')\n",
    "\n",
    "sagittal_interactive_plot = widgets.interactive(sagittal_plot_slice_with_histogram, \n",
    "                                                slice_idx=sagittal_slice_slider, \n",
    "                                                window=sagittal_window_slider, \n",
    "                                                level=sagittal_level_slider)\n",
    "\n",
    "# Display Interactive Plots with Save Buttons\n",
    "display(sagittal_interactive_plot, sagittal_save_button)\n",
    "display(coronal_interactive_plot, coronal_save_button)\n",
    "display(axial_interactive_plot, axial_save_button)"
   ]
  },
  {
   "cell_type": "markdown",
   "metadata": {},
   "source": [
    "### TASK 4: From HU to tissue properties"
   ]
  },
  {
   "cell_type": "code",
   "execution_count": 75,
   "metadata": {},
   "outputs": [],
   "source": [
    "#your code here ...\n",
    "\n",
    "### ANSWER: See the code above."
   ]
  },
  {
   "cell_type": "markdown",
   "metadata": {},
   "source": [
    "### TASK 5: Scalebar\n",
    "\n",
    "Hint: \n",
    "\n",
    "The nifti header stores the resolution at which the image was acquired (i.e. the dimensions of a voxel in the 3D volume).\n",
    "\n",
    "To obtain this information, call the following two functions. (pixel_dims saves 3 values for x, y and z in mm.)\n",
    "\n",
    "- `X_info = img.header`\n",
    "- `pixel_dims = X_info.get_zooms()`"
   ]
  },
  {
   "cell_type": "code",
   "execution_count": 76,
   "metadata": {},
   "outputs": [
    {
     "name": "stdout",
     "output_type": "stream",
     "text": [
      "X_info:  <class 'nibabel.nifti1.Nifti1Header'> object, endian='<'\n",
      "sizeof_hdr      : 348\n",
      "data_type       : b''\n",
      "db_name         : b''\n",
      "extents         : 0\n",
      "session_error   : 0\n",
      "regular         : b'r'\n",
      "dim_info        : 0\n",
      "dim             : [  3 512 512 469   1   1   1   1]\n",
      "intent_p1       : 0.0\n",
      "intent_p2       : 0.0\n",
      "intent_p3       : 0.0\n",
      "intent_code     : none\n",
      "datatype        : int16\n",
      "bitpix          : 16\n",
      "slice_start     : 0\n",
      "pixdim          : [-1.        0.976562  0.976562  1.25      0.        0.        0.\n",
      "  0.      ]\n",
      "vox_offset      : 0.0\n",
      "scl_slope       : nan\n",
      "scl_inter       : nan\n",
      "slice_end       : 0\n",
      "slice_code      : unknown\n",
      "xyzt_units      : 10\n",
      "cal_max         : 0.0\n",
      "cal_min         : 0.0\n",
      "slice_duration  : 0.0\n",
      "toffset         : 0.0\n",
      "glmax           : 0\n",
      "glmin           : 0\n",
      "descrip         : b'Time=83604.442'\n",
      "aux_file        : b''\n",
      "qform_code      : scanner\n",
      "sform_code      : scanner\n",
      "quatern_b       : 0.0\n",
      "quatern_c       : 1.0\n",
      "quatern_d       : 0.0\n",
      "qoffset_x       : 250.0\n",
      "qoffset_y       : -249.0232\n",
      "qoffset_z       : -401.25\n",
      "srow_x          : [ -0.976562  -0.         0.       250.      ]\n",
      "srow_y          : [   0.          0.976562    0.       -249.0232  ]\n",
      "srow_z          : [   0.      0.      1.25 -401.25]\n",
      "intent_name     : b''\n",
      "magic           : b'n+1'\n",
      "______________________________________________\n",
      "Pixel dimensions:  (0.976562, 0.976562, 1.25)\n"
     ]
    }
   ],
   "source": [
    "# Visualize the 3D volume\n",
    "\n",
    "X_info = img.header\n",
    "pixel_dims = X_info.get_zooms()\n",
    "\n",
    "# print X_info and pixel_dims\n",
    "print(\"X_info: \", X_info)\n",
    "print(\"______________________________________________\")\n",
    "print(\"Pixel dimensions: \", pixel_dims) # The first value is the x-axis, second us y-axis and the third is the z-axis. The values are often presented in millimeters."
   ]
  },
  {
   "cell_type": "code",
   "execution_count": 84,
   "metadata": {},
   "outputs": [
    {
     "name": "stdout",
     "output_type": "stream",
     "text": [
      "Image physical dimensions (mm): Width: 89.84, Height: 63.48, Depth: 162.50\n"
     ]
    },
    {
     "data": {
      "application/vnd.jupyter.widget-view+json": {
       "model_id": "f19833177477473b9ee1274453d9bf02",
       "version_major": 2,
       "version_minor": 0
      },
      "text/plain": [
       "interactive(children=(IntSlider(value=46, description='Sagittal Slice:', max=91), IntSlider(value=400, descrip…"
      ]
     },
     "metadata": {},
     "output_type": "display_data"
    },
    {
     "data": {
      "application/vnd.jupyter.widget-view+json": {
       "model_id": "f42164bfba454626b18de6329d12dbcd",
       "version_major": 2,
       "version_minor": 0
      },
      "text/plain": [
       "Button(description='Save Sagittal Slice Image', style=ButtonStyle())"
      ]
     },
     "metadata": {},
     "output_type": "display_data"
    },
    {
     "data": {
      "application/vnd.jupyter.widget-view+json": {
       "model_id": "133dc2375d0c40ad9d3f6f5dc04160f5",
       "version_major": 2,
       "version_minor": 0
      },
      "text/plain": [
       "Button(description='Save Sagittal Histogram', style=ButtonStyle())"
      ]
     },
     "metadata": {},
     "output_type": "display_data"
    },
    {
     "data": {
      "application/vnd.jupyter.widget-view+json": {
       "model_id": "2f4e500ce8744e83b3d4189cc9c1ed69",
       "version_major": 2,
       "version_minor": 0
      },
      "text/plain": [
       "interactive(children=(IntSlider(value=30, description='Coronal Slice:', max=64), IntSlider(value=400, descript…"
      ]
     },
     "metadata": {},
     "output_type": "display_data"
    },
    {
     "data": {
      "application/vnd.jupyter.widget-view+json": {
       "model_id": "a7ebe02ad4ef4907a0dbc716c806a0e3",
       "version_major": 2,
       "version_minor": 0
      },
      "text/plain": [
       "Button(description='Save Coronal Slice Image', style=ButtonStyle())"
      ]
     },
     "metadata": {},
     "output_type": "display_data"
    },
    {
     "data": {
      "application/vnd.jupyter.widget-view+json": {
       "model_id": "c4f5ff61af884008b152557eda605b96",
       "version_major": 2,
       "version_minor": 0
      },
      "text/plain": [
       "Button(description='Save Coronal Histogram', style=ButtonStyle())"
      ]
     },
     "metadata": {},
     "output_type": "display_data"
    },
    {
     "data": {
      "application/vnd.jupyter.widget-view+json": {
       "model_id": "530c3ff23dd0464eb8897d168f4d8415",
       "version_major": 2,
       "version_minor": 0
      },
      "text/plain": [
       "interactive(children=(IntSlider(value=31, description='Axial Slice:', max=129), IntSlider(value=400, descripti…"
      ]
     },
     "metadata": {},
     "output_type": "display_data"
    },
    {
     "data": {
      "application/vnd.jupyter.widget-view+json": {
       "model_id": "8ef95beb262543e6969386748718316b",
       "version_major": 2,
       "version_minor": 0
      },
      "text/plain": [
       "Button(description='Save Axial Slice Image', style=ButtonStyle())"
      ]
     },
     "metadata": {},
     "output_type": "display_data"
    },
    {
     "data": {
      "application/vnd.jupyter.widget-view+json": {
       "model_id": "49bd1391d95b4b2d9c26f3a7a4f36fe3",
       "version_major": 2,
       "version_minor": 0
      },
      "text/plain": [
       "Button(description='Save Axial Histogram', style=ButtonStyle())"
      ]
     },
     "metadata": {},
     "output_type": "display_data"
    },
    {
     "name": "stdout",
     "output_type": "stream",
     "text": [
      "Saved Sagittal_Slice_43_Window_1500_Level_300.png\n"
     ]
    },
    {
     "name": "stdout",
     "output_type": "stream",
     "text": [
      "Saved Sagittal_Slice_57_Window_200_Level_50.png\n"
     ]
    },
    {
     "name": "stdout",
     "output_type": "stream",
     "text": [
      "Saved Coronal_Slice_30_Window_200_Level_50.png\n"
     ]
    },
    {
     "name": "stdout",
     "output_type": "stream",
     "text": [
      "Saved Coronal_Slice_36_Window_1500_Level_300.png\n"
     ]
    },
    {
     "name": "stdout",
     "output_type": "stream",
     "text": [
      "Saved Axial_Slice_31_Window_1500_Level_300.png\n"
     ]
    },
    {
     "name": "stdout",
     "output_type": "stream",
     "text": [
      "Saved Axial_Slice_53_Window_200_Level_50.png\n"
     ]
    }
   ],
   "source": [
    "# Assuming the following variables and arrays are already defined in your environment:\n",
    "# data_cropped, pixel_dims, img_axial_all_slices, img_coronal_all_slices, img_sagittal_all_slices, \n",
    "# default_window, default_level, axial_slice, coronal_slice, sagittal_slice\n",
    "# as well as the function window_level(), and all necessary imports.\n",
    "\n",
    "import matplotlib.pyplot as plt\n",
    "from mpl_toolkits.axes_grid1.anchored_artists import AnchoredSizeBar\n",
    "import matplotlib.font_manager as fm\n",
    "import ipywidgets as widgets\n",
    "from IPython.display import display\n",
    "\n",
    "# Get the dimensions of the cropped data\n",
    "img_shape = data_cropped.shape  # (sagittal_num_slices, coronal_num_slices, axial_num_slices)\n",
    "\n",
    "# Calculate the physical size of the image in mm\n",
    "img_width_mm = img_shape[0] * pixel_dims[0]  # x-axis (sagittal)\n",
    "img_height_mm = img_shape[1] * pixel_dims[1]  # y-axis (coronal)\n",
    "img_depth_mm = img_shape[2] * pixel_dims[2]   # z-axis (axial)\n",
    "\n",
    "print(f\"Image physical dimensions (mm): Width: {img_width_mm:.2f}, Height: {img_height_mm:.2f}, Depth: {img_depth_mm:.2f}\")\n",
    "\n",
    "\n",
    "def axial_plot_slice_with_histogram(slice_idx, window, level):\n",
    "    # Extract the slice data\n",
    "    slice_data = np.flip(img_axial_all_slices[slice_idx])\n",
    "    \n",
    "    # Apply window-level transformation\n",
    "    slice_data_WL, lower_bound, upper_bound = window_level(slice_data, window, level)\n",
    "    \n",
    "    # Create a figure with two subplots\n",
    "    fig, axes = plt.subplots(1, 2, figsize=(12, 5))\n",
    "    \n",
    "    # Plot the axial slice with window-level transformation\n",
    "    # origin='lower' so [0,0] is at bottom-left\n",
    "    im = axes[0].imshow(slice_data_WL, cmap='gray', vmin=0, vmax=1, origin='lower')\n",
    "    axes[0].set_title(f'Axial Slice {slice_idx} (Level: {window}, Width: {level})')\n",
    "    \n",
    "    # Axial orientation:\n",
    "    # x-axis: Right lateral (left) --> Left lateral (right)\n",
    "    # y-axis: Posterior (bottom) --> Anterior (top)\n",
    "    axes[0].set_xlabel('<-- Right lateral -- Left lateral -->')\n",
    "    axes[0].set_ylabel('<-- Posterior -- Anterior -->')\n",
    "    \n",
    "    fig.colorbar(im, ax=axes[0], label='Normalized Intensity')\n",
    "    \n",
    "    # Add scalebar\n",
    "    scalebar_length_mm = 10  # Desired scalebar length in mm\n",
    "    scalebar_length_px = scalebar_length_mm / pixel_dims[0]  # For axial slice, x pixel size = pixel_dims[0]\n",
    "    fontprops = fm.FontProperties(size=12)\n",
    "    scalebar = AnchoredSizeBar(axes[0].transData,\n",
    "                               scalebar_length_px,  # Length of scalebar in pixels\n",
    "                               f'{scalebar_length_mm} mm',  # Label\n",
    "                               'lower right',  # Location\n",
    "                               pad=0.5,\n",
    "                               color='white',\n",
    "                               frameon=False,\n",
    "                               size_vertical=2,\n",
    "                               fontproperties=fontprops)\n",
    "    axes[0].add_artist(scalebar)\n",
    "    \n",
    "    # Plot the histogram\n",
    "    axes[1].hist(slice_data.ravel(), bins=256, color='blue', alpha=0.7)\n",
    "    axes[1].set_title(f'Histogram of Hounsfield Units in Axial Slice {slice_idx}')\n",
    "    axes[1].set_xlabel('Number of Pixels')\n",
    "    axes[1].set_ylabel('Hounsfield Units (HU)')\n",
    "    axes[1].set_xlim([lower_bound, upper_bound])  # Set x-axis limits to window range\n",
    "    axes[1].grid(True)\n",
    "    \n",
    "    plt.tight_layout()\n",
    "    plt.show()\n",
    "\n",
    "def coronal_plot_slice_with_histogram(slice_idx, window, level):\n",
    "    # Extract the slice data\n",
    "    slice_data = img_coronal_all_slices[slice_idx]\n",
    "    \n",
    "    # Apply window-level transformation\n",
    "    slice_data_WL, lower_bound, upper_bound = window_level(slice_data, window, level)\n",
    "    \n",
    "    # Create a figure with two subplots\n",
    "    fig, axes = plt.subplots(1, 2, figsize=(12, 5))\n",
    "    \n",
    "    # Plot the coronal slice with window-level transformation\n",
    "    im = axes[0].imshow(slice_data_WL, cmap='gray', vmin=0, vmax=1, origin='lower')\n",
    "    axes[0].set_title(f'Coronal Slice {slice_idx} (Level: {window}, Width: {level})')\n",
    "    \n",
    "    # Coronal orientation:\n",
    "    # x-axis (horizontal): Inferior (left) --> Superior (right)\n",
    "    # y-axis (vertical): Left lateral (bottom) --> Right lateral (top)\n",
    "    axes[0].set_xlabel('<-- Inferior -- Superior -->')\n",
    "    axes[0].set_ylabel('<-- Left lateral -- Right lateral -->')\n",
    "    \n",
    "    fig.colorbar(im, ax=axes[0], label='Normalized Intensity')\n",
    "    \n",
    "    # Add scalebar\n",
    "    scalebar_length_mm = 10\n",
    "    scalebar_length_px = scalebar_length_mm / pixel_dims[2]  # z-axis pixel dim is pixel_dims[2]\n",
    "    fontprops = fm.FontProperties(size=12)\n",
    "    scalebar = AnchoredSizeBar(axes[0].transData,\n",
    "                               scalebar_length_px,\n",
    "                               f'{scalebar_length_mm} mm',\n",
    "                               'lower right',\n",
    "                               pad=0.5,\n",
    "                               color='white',\n",
    "                               frameon=False,\n",
    "                               size_vertical=2,\n",
    "                               fontproperties=fontprops)\n",
    "    axes[0].add_artist(scalebar)\n",
    "    \n",
    "    # Plot the histogram\n",
    "    axes[1].hist(slice_data.ravel(), bins=256, color='blue', alpha=0.7)\n",
    "    axes[1].set_title(f'Histogram of Hounsfield Units in Coronal Slice {slice_idx}')\n",
    "    axes[1].set_xlabel('Number of Pixels')\n",
    "    axes[1].set_ylabel('Hounsfield Units (HU)')\n",
    "    axes[1].set_xlim([lower_bound, upper_bound])  # Set x-axis limits to window range\n",
    "    axes[1].grid(True)\n",
    "    \n",
    "    plt.tight_layout()\n",
    "    plt.show()\n",
    "\n",
    "def sagittal_plot_slice_with_histogram(slice_idx, window, level):\n",
    "    # Extract the slice data\n",
    "    slice_data = np.flip(img_sagittal_all_slices[slice_idx], axis=0)\n",
    "    \n",
    "    # Apply window-level transformation\n",
    "    slice_data_WL, lower_bound, upper_bound = window_level(slice_data, window, level)\n",
    "    \n",
    "    # Create a figure with two subplots\n",
    "    fig, axes = plt.subplots(1, 2, figsize=(12, 5))\n",
    "    \n",
    "    # Plot the sagittal slice with window-level transformation\n",
    "    im = axes[0].imshow(slice_data_WL, cmap='gray', vmin=0, vmax=1, origin='lower')\n",
    "    axes[0].set_title(f'Sagittal Slice {slice_idx} (Level: {window}, Width: {level})')\n",
    "    \n",
    "    # Sagittal orientation:\n",
    "    # x-axis: Inferior (left) --> Superior (right)\n",
    "    # y-axis: Posterior (bottom) --> Anterior (top)\n",
    "    axes[0].set_xlabel('<-- Inferior -- Superior -->')\n",
    "    axes[0].set_ylabel('<-- Posterior -- Anterior -->')\n",
    "    \n",
    "    fig.colorbar(im, ax=axes[0], label='Normalized Intensity')\n",
    "    \n",
    "    # Add scalebar\n",
    "    scalebar_length_mm = 10\n",
    "    scalebar_length_px = scalebar_length_mm / pixel_dims[1]  # y-axis pixel dim for sagittal\n",
    "    fontprops = fm.FontProperties(size=12)\n",
    "    scalebar = AnchoredSizeBar(axes[0].transData,\n",
    "                               scalebar_length_px,\n",
    "                               f'{scalebar_length_mm} mm',\n",
    "                               'lower right',\n",
    "                               pad=0.5,\n",
    "                               color='white',\n",
    "                               frameon=False,\n",
    "                               size_vertical=2,\n",
    "                               fontproperties=fontprops)\n",
    "    axes[0].add_artist(scalebar)\n",
    "    \n",
    "    # Plot the histogram\n",
    "    axes[1].hist(slice_data.ravel(), bins=256, color='blue', alpha=0.7)\n",
    "    axes[1].set_title(f'Histogram of Hounsfield Units in Sagittal Slice {slice_idx}')\n",
    "    axes[1].set_xlabel('Number of Pixels')\n",
    "    axes[1].set_ylabel('Hounsfield Units (HU)')\n",
    "    axes[1].set_xlim([lower_bound, upper_bound])  # Set x-axis limits to window range\n",
    "    axes[1].grid(True)\n",
    "    \n",
    "    plt.tight_layout()\n",
    "    plt.show()\n",
    "\n",
    "\n",
    "# Functions to save images and histograms\n",
    "def save_slice_with_scalebar_as_png(slice_data, window, level, slice_idx, slice_type, scalebar_length_mm, pixel_dim):\n",
    "    # Apply window-level transformation\n",
    "    slice_data_WL, _, _ = window_level(slice_data, window, level)\n",
    "    \n",
    "    # Create a figure\n",
    "    fig, ax = plt.subplots(figsize=(6, 6))\n",
    "    im = ax.imshow(slice_data_WL, cmap='gray', vmin=0, vmax=1, origin='lower')\n",
    "    ax.set_title(f'{slice_type} Slice {slice_idx} (Level: {window}, Width: {level})')\n",
    "    \n",
    "    # Set axis labels according to slice type\n",
    "    if slice_type == \"Axial\":\n",
    "        # x-axis: Right lateral (left) --> Left lateral (right)\n",
    "        # y-axis: Posterior (bottom) --> Anterior (top)\n",
    "        ax.set_xlabel('<-- Right lateral -- Left lateral -->')\n",
    "        ax.set_ylabel('<-- Posterior -- Anterior -->')\n",
    "    elif slice_type == \"Coronal\":\n",
    "        # x-axis: Inferior (left) --> Superior (right)\n",
    "        # y-axis: Left lateral (bottom) --> Right lateral (top)\n",
    "        ax.set_xlabel('<-- Inferior -- Superior -->')\n",
    "        ax.set_ylabel('<-- Left lateral -- Right lateral -->')\n",
    "    elif slice_type == \"Sagittal\":\n",
    "        # x-axis: Inferior (left) --> Superior (right)\n",
    "        # y-axis: Posterior (bottom) --> Anterior (top)\n",
    "        ax.set_xlabel('<-- Inferior -- Superior -->')\n",
    "        ax.set_ylabel('<-- Posterior -- Anterior -->')\n",
    "\n",
    "    fig.colorbar(im, ax=ax, label='Normalized Intensity')\n",
    "    \n",
    "    # Add scalebar\n",
    "    scalebar_length_px = scalebar_length_mm / pixel_dim  # Convert mm to pixels\n",
    "    fontprops = fm.FontProperties(size=12)\n",
    "    scalebar = AnchoredSizeBar(ax.transData,\n",
    "                               scalebar_length_px,\n",
    "                               f'{scalebar_length_mm} mm',\n",
    "                               'lower right',\n",
    "                               pad=0.5,\n",
    "                               color='white',\n",
    "                               frameon=False,\n",
    "                               size_vertical=2,\n",
    "                               fontproperties=fontprops)\n",
    "    ax.add_artist(scalebar)\n",
    "    \n",
    "    # Save the figure\n",
    "    filename = f\"{slice_type}_Slice_{slice_idx}_Window_{window}_Level_{level}.png\"\n",
    "    plt.savefig(filename, dpi=300)\n",
    "    plt.close()\n",
    "    print(f\"Saved {filename}\")\n",
    "\n",
    "def save_histogram_as_png(slice_data, window, level, slice_idx, slice_type):\n",
    "    # Apply window-level transformation to get bounds\n",
    "    _, lower_bound, upper_bound = window_level(slice_data, window, level)\n",
    "    \n",
    "    # Create a figure for histogram\n",
    "    fig, ax = plt.subplots(figsize=(6,4))\n",
    "    ax.hist(slice_data.ravel(), bins=256, color='blue', alpha=0.7)\n",
    "    ax.set_title(f'Histogram of Hounsfield Units\\n{slice_type} Slice {slice_idx} (W: {window}, L: {level})')\n",
    "    ax.set_xlabel('Number of Pixels')\n",
    "    ax.set_ylabel('Hounsfield Units (HU)')\n",
    "    ax.set_xlim([lower_bound, upper_bound])\n",
    "    ax.grid(True)\n",
    "    \n",
    "    # Save the figure\n",
    "    filename = f\"{slice_type}_Slice_{slice_idx}_Window_{window}_Level_{level}_Histogram.png\"\n",
    "    plt.savefig(filename, dpi=300)\n",
    "    plt.close()\n",
    "    print(f\"Saved {filename}\")\n",
    "\n",
    "\n",
    "# Axial Save Buttons\n",
    "def axial_save_slice(slice_idx, window, level):\n",
    "    slice_data = np.flip(img_axial_all_slices[slice_idx])\n",
    "    save_slice_with_scalebar_as_png(slice_data, window, level, slice_idx, \"Axial\", 10, pixel_dims[0])\n",
    "\n",
    "def axial_save_hist(slice_idx, window, level):\n",
    "    slice_data = img_axial_all_slices[slice_idx]\n",
    "    save_histogram_as_png(slice_data, window, level, slice_idx, \"Axial\")\n",
    "\n",
    "axial_save_button = widgets.Button(description=\"Save Axial Slice Image\")\n",
    "axial_save_button.on_click(lambda _: axial_save_slice(axial_slice_slider.value, axial_window_slider.value, axial_level_slider.value))\n",
    "\n",
    "axial_save_hist_button = widgets.Button(description=\"Save Axial Histogram\")\n",
    "axial_save_hist_button.on_click(lambda _: axial_save_hist(axial_slice_slider.value, axial_window_slider.value, axial_level_slider.value))\n",
    "\n",
    "\n",
    "# Coronal Save Buttons\n",
    "def coronal_save_slice(slice_idx, window, level):\n",
    "    slice_data = img_coronal_all_slices[slice_idx]\n",
    "    save_slice_with_scalebar_as_png(slice_data, window, level, slice_idx, \"Coronal\", 10, pixel_dims[2])\n",
    "\n",
    "def coronal_save_hist(slice_idx, window, level):\n",
    "    slice_data = img_coronal_all_slices[slice_idx]\n",
    "    save_histogram_as_png(slice_data, window, level, slice_idx, \"Coronal\")\n",
    "\n",
    "coronal_save_button = widgets.Button(description=\"Save Coronal Slice Image\")\n",
    "coronal_save_button.on_click(lambda _: coronal_save_slice(coronal_slice_slider.value, coronal_window_slider.value, coronal_level_slider.value))\n",
    "\n",
    "coronal_save_hist_button = widgets.Button(description=\"Save Coronal Histogram\")\n",
    "coronal_save_hist_button.on_click(lambda _: coronal_save_hist(coronal_slice_slider.value, coronal_window_slider.value, coronal_level_slider.value))\n",
    "\n",
    "\n",
    "# Sagittal Save Buttons\n",
    "def sagittal_save_slice(slice_idx, window, level):\n",
    "    slice_data = np.flip(img_sagittal_all_slices[slice_idx], axis=0)\n",
    "    save_slice_with_scalebar_as_png(slice_data, window, level, slice_idx, \"Sagittal\", 10, pixel_dims[1])\n",
    "\n",
    "def sagittal_save_hist(slice_idx, window, level):\n",
    "    slice_data = img_sagittal_all_slices[slice_idx]\n",
    "    save_histogram_as_png(slice_data, window, level, slice_idx, \"Sagittal\")\n",
    "\n",
    "sagittal_save_button = widgets.Button(description=\"Save Sagittal Slice Image\")\n",
    "sagittal_save_button.on_click(lambda _: sagittal_save_slice(sagittal_slice_slider.value, sagittal_window_slider.value, sagittal_level_slider.value))\n",
    "\n",
    "sagittal_save_hist_button = widgets.Button(description=\"Save Sagittal Histogram\")\n",
    "sagittal_save_hist_button.on_click(lambda _: sagittal_save_hist(sagittal_slice_slider.value, sagittal_window_slider.value, sagittal_level_slider.value))\n",
    "\n",
    "\n",
    "# Interactive sliders for axial slice\n",
    "axial_slice_slider = widgets.IntSlider(value=axial_slice, min=0, max=img_shape[2]-1, step=1, description='Axial Slice:')\n",
    "axial_window_slider = widgets.IntSlider(value=default_window, min=100, max=2000, step=100, description='Window Level:')\n",
    "axial_level_slider = widgets.IntSlider(value=default_level, min=-1000, max=1000, step=50, description='Window Width:')\n",
    "axial_interactive_plot = widgets.interactive(axial_plot_slice_with_histogram, \n",
    "                                             slice_idx=axial_slice_slider, \n",
    "                                             window=axial_window_slider, \n",
    "                                             level=axial_level_slider)\n",
    "\n",
    "# Interactive sliders for coronal slice\n",
    "coronal_slice_slider = widgets.IntSlider(value=coronal_slice, min=0, max=img_shape[1]-1, step=1, description='Coronal Slice:')\n",
    "coronal_window_slider = widgets.IntSlider(value=default_window, min=100, max=2000, step=100, description='Window Level:')\n",
    "coronal_level_slider = widgets.IntSlider(value=default_level, min=-1000, max=1000, step=50, description='Window Width:')\n",
    "coronal_interactive_plot = widgets.interactive(coronal_plot_slice_with_histogram, \n",
    "                                               slice_idx=coronal_slice_slider, \n",
    "                                               window=coronal_window_slider, \n",
    "                                               level=coronal_level_slider)\n",
    "\n",
    "# Interactive sliders for sagittal slice\n",
    "sagittal_slice_slider = widgets.IntSlider(value=sagittal_slice, min=0, max=img_shape[0]-1, step=1, description='Sagittal Slice:')\n",
    "sagittal_window_slider = widgets.IntSlider(value=default_window, min=100, max=2000, step=100, description='Window Level:')\n",
    "sagittal_level_slider = widgets.IntSlider(value=default_level, min=-1000, max=1000, step=50, description='Window Width:')\n",
    "sagittal_interactive_plot = widgets.interactive(sagittal_plot_slice_with_histogram, \n",
    "                                                slice_idx=sagittal_slice_slider, \n",
    "                                                window=sagittal_window_slider, \n",
    "                                                level=sagittal_level_slider)\n",
    "\n",
    "# Display the interactive plots with save buttons\n",
    "display(sagittal_interactive_plot, sagittal_save_button, sagittal_save_hist_button)\n",
    "display(coronal_interactive_plot, coronal_save_button, coronal_save_hist_button)\n",
    "display(axial_interactive_plot, axial_save_button, axial_save_hist_button)\n"
   ]
  },
  {
   "cell_type": "markdown",
   "metadata": {},
   "source": [
    "### TASK 6: SNR\n",
    "\n",
    "Hint: \n",
    "\n",
    "Creating rectangle: \n",
    "- `rectangle_bg = plt.Rectangle((roi_bg_x, roi_bg_y), roi_bg_w, roi_bg_h, edgecolor='r', facecolor='none')`\n",
    "\n",
    "Adding rectangle to image\n",
    "\n",
    "- `plt.gca().add_patch(rectangle_bg)`"
   ]
  },
  {
   "cell_type": "code",
   "execution_count": 85,
   "metadata": {},
   "outputs": [
    {
     "data": {
      "image/png": "[encoded data removed]",
      "text/plain": [
       "<Figure size 600x600 with 2 Axes>"
      ]
     },
     "metadata": {},
     "output_type": "display_data"
    },
    {
     "name": "stdout",
     "output_type": "stream",
     "text": [
      "Mean Signal (Object ROI): 1251.325\n",
      "Standard Deviation of Noise (Noise ROI): 79.48895772369896\n",
      "Signal-to-Noise Ratio (SNR): 15.74\n"
     ]
    }
   ],
   "source": [
    "### Define and plot ROIs on the axial slice\n",
    "import numpy as np\n",
    "import matplotlib.pyplot as plt\n",
    "\n",
    "# Assuming data_cropped and img_axial_all_slices are already defined\n",
    "\n",
    "# Step 1: Choose the ROI positions and dimensions (adjust as needed)\n",
    "roi_signal_x, roi_signal_y = 39, 23  # Coordinates of the signal ROI (inside object)\n",
    "roi_signal_w, roi_signal_h = 8, 10  # Width and height of the signal ROI\n",
    "\n",
    "roi_noise_x, roi_noise_y = 80, 50  # Coordinates of the noise ROI (outside object)\n",
    "roi_noise_w, roi_noise_h = 10, 10  # Width and height of the noise ROI\n",
    "\n",
    "\n",
    "# Step 2: Select the axial slice to display\n",
    "axial_slice_idx = 31\n",
    "slice_data = img_axial_all_slices[axial_slice_idx]\n",
    "\n",
    "# Step 3: Plot the slice and draw the ROIs\n",
    "plt.figure(figsize=(6, 6))\n",
    "plt.imshow(slice_data, cmap='gray')\n",
    "plt.title(f'Axial Slice {axial_slice_idx} with ROIs')\n",
    "plt.xlabel('x')\n",
    "plt.ylabel('y')\n",
    "\n",
    "# Draw signal ROI (red rectangle)\n",
    "rectangle_signal = plt.Rectangle((roi_signal_x, roi_signal_y), roi_signal_w, roi_signal_h, edgecolor='r', facecolor='none', linewidth=2)\n",
    "plt.gca().add_patch(rectangle_signal)\n",
    "\n",
    "# Draw noise ROI (blue rectangle)\n",
    "rectangle_noise = plt.Rectangle((roi_noise_x, roi_noise_y), roi_noise_w, roi_noise_h, edgecolor='b', facecolor='none', linewidth=2)\n",
    "plt.gca().add_patch(rectangle_noise)\n",
    "\n",
    "plt.colorbar(label='Intensity Values (HU)')\n",
    "plt.show()\n",
    "\n",
    "### Compute the SNR\n",
    "# Step 4: Extract the pixel intensities from the ROIs\n",
    "\n",
    "# Signal ROI\n",
    "signal_roi = slice_data[roi_signal_y:roi_signal_y+roi_signal_h, roi_signal_x:roi_signal_x+roi_signal_w]\n",
    "mean_signal = np.mean(signal_roi)\n",
    "\n",
    "# Noise ROI\n",
    "noise_roi = slice_data[roi_noise_y:roi_noise_y+roi_noise_h, roi_noise_x:roi_noise_x+roi_noise_w]\n",
    "std_noise = np.std(noise_roi)\n",
    "\n",
    "# Step 5: Calculate the SNR\n",
    "snr = mean_signal / std_noise\n",
    "\n",
    "# Display the results\n",
    "print(f\"Mean Signal (Object ROI): {mean_signal}\")\n",
    "print(f\"Standard Deviation of Noise (Noise ROI): {std_noise}\")\n",
    "print(f\"Signal-to-Noise Ratio (SNR): {snr:.2f}\")"
   ]
  },
  {
   "cell_type": "code",
   "execution_count": 79,
   "metadata": {},
   "outputs": [
    {
     "name": "stdout",
     "output_type": "stream",
     "text": [
      "Mean Signal (Object ROI): 1251.325\n",
      "Standard Deviation of Noise (Noise ROI): 79.48895772369896\n",
      "Signal-to-Noise Ratio (SNR): 15.74\n"
     ]
    }
   ],
   "source": [
    "### Compute the SNR\n",
    "# Step 4: Extract the pixel intensities from the ROIs\n",
    "\n",
    "# Signal ROI\n",
    "signal_roi = slice_data[roi_signal_y:roi_signal_y+roi_signal_h, roi_signal_x:roi_signal_x+roi_signal_w]\n",
    "mean_signal = np.mean(signal_roi)\n",
    "\n",
    "# Noise ROI\n",
    "noise_roi = slice_data[roi_noise_y:roi_noise_y+roi_noise_h, roi_noise_x:roi_noise_x+roi_noise_w]\n",
    "std_noise = np.std(noise_roi)\n",
    "\n",
    "# Step 5: Calculate the SNR\n",
    "snr = mean_signal / std_noise\n",
    "\n",
    "# Display the results\n",
    "print(f\"Mean Signal (Object ROI): {mean_signal}\")\n",
    "print(f\"Standard Deviation of Noise (Noise ROI): {std_noise}\")\n",
    "print(f\"Signal-to-Noise Ratio (SNR): {snr:.2f}\")"
   ]
  },
  {
   "cell_type": "markdown",
   "metadata": {},
   "source": [
    "It can be seen:\n",
    " - An SNR of 15.74 means that the signal is about 15.7 times stronger than the noise.\n",
    " - Higher SNR (>10) indicates a clearer, better-quality image, where the signal is well above the noise, making it easier to distinguish objects."
   ]
  },
  {
   "cell_type": "markdown",
   "metadata": {},
   "source": [
    "### TASK 7: Segmentation"
   ]
  },
  {
   "cell_type": "code",
   "execution_count": 80,
   "metadata": {},
   "outputs": [],
   "source": [
    "# ### Step 1: Choose HU Window for Segmentation\n",
    "# # Define the HU range for segmentation\n",
    "# lower_bound = 500   # Adjust based on your histogram\n",
    "# upper_bound = 3000  # Adjust based on your histogram\n",
    "\n",
    "\n",
    "# ### Step 2: Create the Binary Mask\n",
    "# # Select a specific axial slice for segmentation\n",
    "# axial_slice_index = 31  # Adjust as needed\n",
    "# slice_data = img_axial_all_slices[axial_slice_index]\n",
    "\n",
    "# # Create the binary mask\n",
    "# mask = np.logical_and(slice_data >= lower_bound, slice_data <= upper_bound)\n",
    "\n",
    "# ### Step 3: Visualize the Mask and the Original Slice\n",
    "# import matplotlib.pyplot as plt\n",
    "\n",
    "# # Plot the original slice and the mask\n",
    "# fig, axes = plt.subplots(1, 2, figsize=(12, 6))\n",
    "\n",
    "# # Original slice with window-level applied (optional)\n",
    "# window = 400  # Adjust as needed\n",
    "# level = 40    # Adjust as needed\n",
    "# slice_WL, _, _ = window_level(slice_data, window, level)\n",
    "\n",
    "# axes[0].imshow(slice_WL, cmap='gray', vmin=0, vmax=1)\n",
    "# axes[0].set_title(f'Axial Slice {axial_slice_index} (Windowed)')\n",
    "# axes[0].set_xlabel('x')\n",
    "# axes[0].set_ylabel('y')\n",
    "\n",
    "# # Mask visualization\n",
    "# axes[1].imshow(mask, cmap='gray')\n",
    "# axes[1].set_title('Segmentation Mask')\n",
    "# axes[1].set_xlabel('x')\n",
    "# axes[1].set_ylabel('y')\n",
    "\n",
    "# plt.tight_layout()\n",
    "# plt.show()\n",
    "\n",
    "# ### Step 4: Calculate the Size of the Segmented Area\n",
    "# # Count the number of pixels in the mask\n",
    "# num_pixels = np.count_nonzero(mask)\n",
    "\n",
    "# # Get pixel dimensions from the header (from Task 5)\n",
    "# pixel_dims = img.header.get_zooms()  # (pixel_size_x, pixel_size_y, pixel_size_z)\n",
    "\n",
    "# # Calculate the area of a single pixel (assuming square pixels)\n",
    "# pixel_area = pixel_dims[0] * pixel_dims[1]  # in mm^2\n",
    "\n",
    "# # Calculate the total area of the segmented region\n",
    "# segmented_area = num_pixels * pixel_area  # in mm^2\n",
    "\n",
    "# print(f\"Number of segmented pixels: {num_pixels}\")\n",
    "# print(f\"Area of one pixel: {pixel_area:.2f} mm²\")\n",
    "# print(f\"Total segmented area: {segmented_area:.2f} mm²\")\n"
   ]
  },
  {
   "cell_type": "code",
   "execution_count": 81,
   "metadata": {},
   "outputs": [
    {
     "data": {
      "application/vnd.jupyter.widget-view+json": {
       "model_id": "0dd102c5e1b64631884ec29db63ed6f4",
       "version_major": 2,
       "version_minor": 0
      },
      "text/plain": [
       "Tab(children=(VBox(children=(IntSlider(value=0, description='Slice', max=129), FloatSlider(value=500.0, descri…"
      ]
     },
     "metadata": {},
     "output_type": "display_data"
    },
    {
     "name": "stdout",
     "output_type": "stream",
     "text": [
      "Saved: Axial_slice_53_HU_50.0_150.0_Window_Level200.0_Window_Width50.0.png\n"
     ]
    },
    {
     "name": "stdout",
     "output_type": "stream",
     "text": [
      "Saved: Axial_slice_31_HU_500.0_4000.0_Window_Level1500.0_Window_Width300.0.png\n"
     ]
    },
    {
     "name": "stdout",
     "output_type": "stream",
     "text": [
      "Saved: Sagittal_slice_43_HU_500.0_4000.0_Window_Level1500.0_Window_Width300.0.png\n"
     ]
    },
    {
     "name": "stdout",
     "output_type": "stream",
     "text": [
      "Saved: Sagittal_slice_57_HU_50.0_150.0_Window_Level200.0_Window_Width50.0.png\n"
     ]
    },
    {
     "name": "stdout",
     "output_type": "stream",
     "text": [
      "Saved: Coronal_slice_30_HU_50.0_150.0_Window_Level200.0_Window_Width50.0.png\n"
     ]
    },
    {
     "name": "stdout",
     "output_type": "stream",
     "text": [
      "Saved: Coronal_slice_36_HU_500.0_4000.0_Window_Level1500.0_Window_Width300.0.png\n"
     ]
    }
   ],
   "source": [
    "import numpy as np\n",
    "import matplotlib.pyplot as plt\n",
    "from ipywidgets import IntSlider, FloatSlider, Button, VBox, Output, Tab\n",
    "import os\n",
    "from mpl_toolkits.axes_grid1.anchored_artists import AnchoredSizeBar\n",
    "import matplotlib.font_manager as fm\n",
    "\n",
    "# Define window-level adjustment function\n",
    "def window_level(slice_data, window, level):\n",
    "    min_bound = level - (window / 2)\n",
    "    max_bound = level + (window / 2)\n",
    "    slice_WL = np.clip((slice_data - min_bound) / (max_bound - min_bound), 0, 1)\n",
    "    return slice_WL, min_bound, max_bound\n",
    "\n",
    "# Visualization and saving function for all views\n",
    "def visualize_and_save(slice_type, slice_index, lower_bound, upper_bound, window, level, save=False):\n",
    "    global img_axial_all_slices, img_sagittal_all_slices, img_coronal_all_slices, pixel_dims\n",
    "    \n",
    "    # Select appropriate slice data\n",
    "    if slice_type == \"Axial\":\n",
    "        slice_data = np.flip(img_axial_all_slices[slice_index])\n",
    "        pixel_dim = pixel_dims[0]\n",
    "    elif slice_type == \"Sagittal\":\n",
    "        slice_data = np.flip(img_sagittal_all_slices[slice_index], axis=0)\n",
    "        pixel_dim = pixel_dims[1]\n",
    "    elif slice_type == \"Coronal\":\n",
    "        slice_data = img_coronal_all_slices[slice_index]\n",
    "        pixel_dim = pixel_dims[2]\n",
    "\n",
    "    # Apply window-level transformation\n",
    "    slice_WL, _, _ = window_level(slice_data, window, level)\n",
    "\n",
    "    # Create the binary mask\n",
    "    mask = np.logical_and(slice_data >= lower_bound, slice_data <= upper_bound)\n",
    "\n",
    "    # Plot the original slice and mask\n",
    "    with output:  # Use Output widget for controlled display\n",
    "        output.clear_output(wait=True)\n",
    "        fig, axes = plt.subplots(1, 2, figsize=(12, 6))\n",
    "        \n",
    "        # Show the window-leveled image\n",
    "        im = axes[0].imshow(slice_WL, cmap='gray', vmin=0, vmax=1, origin='lower')\n",
    "        axes[0].set_title(f'{slice_type} Slice {slice_index} (Window_Level:{window} Window_Width:{level})')\n",
    "\n",
    "        # Show the segmentation mask\n",
    "        mask_im = axes[1].imshow(mask, cmap='gray', origin='lower')\n",
    "        axes[1].set_title('Segmentation Mask')\n",
    "\n",
    "        # Adjust axis labels based on slice_type\n",
    "        if slice_type == \"Axial\":\n",
    "            # x-axis: Right lateral (left) --> Left lateral (right)\n",
    "            # y-axis: Posterior (bottom) --> Anterior (top)\n",
    "            for ax in axes:\n",
    "                ax.set_xlabel('<-- Right lateral -- Left lateral -->')\n",
    "                ax.set_ylabel('<-- Posterior -- Anterior -->')\n",
    "\n",
    "        elif slice_type == \"Coronal\":\n",
    "            # x-axis: Inferior (left) --> Superior (right)\n",
    "            # y-axis: Left lateral (bottom) --> Right lateral (top)\n",
    "            for ax in axes:\n",
    "                ax.set_xlabel('<-- Inferior -- Superior -->')\n",
    "                ax.set_ylabel('<-- Left lateral -- Right lateral -->')\n",
    "\n",
    "        elif slice_type == \"Sagittal\":\n",
    "            # x-axis: Inferior (left) --> Superior (right)\n",
    "            # y-axis: Posterior (bottom) --> Anterior (top)\n",
    "            for ax in axes:\n",
    "                ax.set_xlabel('<-- Inferior -- Superior -->')\n",
    "                ax.set_ylabel('<-- Posterior -- Anterior -->')\n",
    "\n",
    "        # Add scalebars\n",
    "        scalebar_length_mm = 10  # Desired scalebar length in mm\n",
    "        scalebar_length_px = scalebar_length_mm / pixel_dim\n",
    "        fontprops = fm.FontProperties(size=12)\n",
    "\n",
    "        # Scalebar for original slice\n",
    "        scalebar_0 = AnchoredSizeBar(axes[0].transData,\n",
    "                                     scalebar_length_px,\n",
    "                                     f'{scalebar_length_mm} mm',\n",
    "                                     'lower right',\n",
    "                                     pad=0.5,\n",
    "                                     color='white',\n",
    "                                     frameon=False,\n",
    "                                     size_vertical=2,\n",
    "                                     fontproperties=fontprops)\n",
    "        axes[0].add_artist(scalebar_0)\n",
    "\n",
    "        # Scalebar for mask\n",
    "        scalebar_1 = AnchoredSizeBar(axes[1].transData,\n",
    "                                     scalebar_length_px,\n",
    "                                     f'{scalebar_length_mm} mm',\n",
    "                                     'lower right',\n",
    "                                     pad=0.5,\n",
    "                                     color='white',\n",
    "                                     frameon=False,\n",
    "                                     size_vertical=2,\n",
    "                                     fontproperties=fontprops)\n",
    "        axes[1].add_artist(scalebar_1)\n",
    "\n",
    "        plt.tight_layout()\n",
    "        plt.show()\n",
    "\n",
    "    # Optionally save images\n",
    "    if save:\n",
    "        output_dir = f\"segmented_slices/{slice_type.lower()}\"\n",
    "        os.makedirs(output_dir, exist_ok=True)\n",
    "        fig.savefig(os.path.join(output_dir, f\"{slice_type}_slice_{slice_index}_HU_{lower_bound}_{upper_bound}_W{window}_L{level}.png\"))\n",
    "        print(f\"Saved: {slice_type}_slice_{slice_index}_HU_{lower_bound}_{upper_bound}_Window_Level{window}_Window_Width{level}.png\")\n",
    "    plt.close(fig)\n",
    "\n",
    "\n",
    "# Create the sliders\n",
    "slice_slider = IntSlider(value=0, min=0, max=np.array(img_axial_all_slices).shape[0] - 1, description='Slice')\n",
    "lower_slider = FloatSlider(value=500, min=-1000, max=4000, step=50, description='Lower HU')\n",
    "upper_slider = FloatSlider(value=3000, min=-1000, max=4000, step=50, description='Upper HU')\n",
    "window_slider = FloatSlider(value=400, min=0, max=2000, step=50, description='Window Level')\n",
    "level_slider = FloatSlider(value=40, min=-1000, max=1000, step=50, description='Window Width')\n",
    "\n",
    "save_button = Button(description=\"Save Image\")\n",
    "output = Output()\n",
    "\n",
    "# Update visualization based on selected view\n",
    "def update_visualization(*args):\n",
    "    visualize_and_save(current_view, slice_slider.value, lower_slider.value, upper_slider.value, window_slider.value, level_slider.value, save=False)\n",
    "\n",
    "slice_slider.observe(update_visualization, names='value')\n",
    "lower_slider.observe(update_visualization, names='value')\n",
    "upper_slider.observe(update_visualization, names='value')\n",
    "window_slider.observe(update_visualization, names='value')\n",
    "level_slider.observe(update_visualization, names='value')\n",
    "\n",
    "# Save button functionality\n",
    "def on_save_clicked(b):\n",
    "    visualize_and_save(current_view, slice_slider.value, lower_slider.value, upper_slider.value, window_slider.value, level_slider.value, save=True)\n",
    "\n",
    "save_button.on_click(on_save_clicked)\n",
    "\n",
    "# Tabs for switching between views\n",
    "views = [\"Axial\", \"Sagittal\", \"Coronal\"]\n",
    "current_view = \"Axial\"\n",
    "\n",
    "def on_tab_change(change):\n",
    "    global current_view\n",
    "    current_view = views[change['new']]\n",
    "    slice_slider.max = np.array(eval(f\"img_{current_view.lower()}_all_slices\")).shape[0] - 1\n",
    "    update_visualization()\n",
    "\n",
    "tab_children = []\n",
    "for view in views:\n",
    "    tab_children.append(\n",
    "        VBox([slice_slider, lower_slider, upper_slider, window_slider, level_slider, save_button, output])\n",
    "    )\n",
    "\n",
    "tabs = Tab(children=tab_children)\n",
    "for i, view in enumerate(views):\n",
    "    tabs.set_title(i, view)\n",
    "\n",
    "tabs.observe(on_tab_change, names='selected_index')\n",
    "\n",
    "# Display the UI\n",
    "display(tabs)\n",
    "\n",
    "# Trigger initial visualization\n",
    "update_visualization()\n"
   ]
  },
  {
   "cell_type": "markdown",
   "metadata": {},
   "source": [
    "Bonus TASK"
   ]
  },
  {
   "cell_type": "code",
   "execution_count": 82,
   "metadata": {},
   "outputs": [
    {
     "ename": "NameError",
     "evalue": "name 'lower_bound' is not defined",
     "output_type": "error",
     "traceback": [
      "\u001b[1;31m---------------------------------------------------------------------------\u001b[0m",
      "\u001b[1;31mNameError\u001b[0m                                 Traceback (most recent call last)",
      "Cell \u001b[1;32mIn [82], line 14\u001b[0m\n\u001b[0;32m     11\u001b[0m slice_data \u001b[38;5;241m=\u001b[39m img_axial_all_slices[slice_idx]\n\u001b[0;32m     13\u001b[0m \u001b[38;5;66;03m# Create the binary mask\u001b[39;00m\n\u001b[1;32m---> 14\u001b[0m mask \u001b[38;5;241m=\u001b[39m np\u001b[38;5;241m.\u001b[39mlogical_and(slice_data \u001b[38;5;241m>\u001b[39m\u001b[38;5;241m=\u001b[39m \u001b[43mlower_bound\u001b[49m, slice_data \u001b[38;5;241m<\u001b[39m\u001b[38;5;241m=\u001b[39m upper_bound)\n\u001b[0;32m     16\u001b[0m \u001b[38;5;66;03m# Count the number of pixels in the mask\u001b[39;00m\n\u001b[0;32m     17\u001b[0m num_pixels \u001b[38;5;241m=\u001b[39m np\u001b[38;5;241m.\u001b[39mcount_nonzero(mask)\n",
      "\u001b[1;31mNameError\u001b[0m: name 'lower_bound' is not defined"
     ]
    }
   ],
   "source": [
    "# Define the range of slices that contain the object\n",
    "start_slice = 27  # Adjust based on where the object starts (look at the slices earlier)\n",
    "end_slice = 41    # Adjust based on where the object ends\n",
    "\n",
    "# Initialize total volume\n",
    "total_volume = 0\n",
    "\n",
    "# Loop through the slices\n",
    "for slice_idx in range(start_slice, end_slice + 1):\n",
    "    # Extract the slice data\n",
    "    slice_data = img_axial_all_slices[slice_idx]\n",
    "    \n",
    "    # Create the binary mask\n",
    "    mask = np.logical_and(slice_data >= lower_bound, slice_data <= upper_bound)\n",
    "    \n",
    "    # Count the number of pixels in the mask\n",
    "    num_pixels = np.count_nonzero(mask)\n",
    "    \n",
    "    # Calculate the volume contributed by this slice\n",
    "    slice_thickness = pixel_dims[2]  # Slice thickness in mm\n",
    "    voxel_volume = pixel_dims[0] * pixel_dims[1] * slice_thickness  # Volume of one voxel in mm³\n",
    "    slice_volume = num_pixels * voxel_volume  # Volume of the segmented region in this slice\n",
    "    \n",
    "    # Add to total volume\n",
    "    total_volume += slice_volume\n",
    "\n",
    "# Convert total volume to cm³\n",
    "total_volume_cm3 = total_volume / 1000  # 1 cm³ = 1000 mm³\n",
    "\n",
    "print(f\"Total segmented volume: {total_volume_cm3:.2f} cm³\")"
   ]
  }
 ],
 "metadata": {
  "kernelspec": {
   "display_name": "Python 3",
   "language": "python",
   "name": "python3"
  },
  "language_info": {
   "codemirror_mode": {
    "name": "ipython",
    "version": 3
   },
   "file_extension": ".py",
   "mimetype": "text/x-python",
   "name": "python",
   "nbconvert_exporter": "python",
   "pygments_lexer": "ipython3",
   "version": "3.10.4"
  }
 },
 "nbformat": 4,
 "nbformat_minor": 4
}
